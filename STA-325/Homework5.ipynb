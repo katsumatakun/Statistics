{
 "cells": [
  {
   "cell_type": "code",
   "execution_count": 270,
   "metadata": {},
   "outputs": [
    {
     "data": {
      "text/plain": [
       "Plots.GRBackend()"
      ]
     },
     "execution_count": 270,
     "metadata": {},
     "output_type": "execute_result"
    }
   ],
   "source": [
    "using Distributions, Statistics, Plots, StatsPlots, DataFrames;\n",
    "gr()"
   ]
  },
  {
   "cell_type": "markdown",
   "metadata": {},
   "source": [
    "### 1\n",
    "\n",
    "$H_O: $ There is no relationship between political affiliation and a a person’s income.\n",
    "\n",
    "$H_A: $ There is a relationship between political affiliation and a person’s income.\n",
    "\n",
    "All of the calculations were done below. \n",
    "\n",
    "$df=(3-1)(3-1)=4\\,,\\alpha=0.05\\,, \\chi* =14.1$ and from the table, $\\chi^2_{0.01}(4)=13.28 < 14.1$. So $p < 0.01$.\n",
    "\n",
    "Since $p<\\alpha\\,(p<0.05)\\,$, we can conclude $H_A$ that there is a relationship between political affiliation and a person’s income. It looks like those whose incomes are less than $\\$50000$ tend to like Democrat and not to like Other, those whose incomes are between $\\$50000$ and $\\$100000$ tend to like Other and not to ike Republican, and those whose incomes are more than $\\$100000$ tend to like Republican and not to like Other."
   ]
  },
  {
   "cell_type": "code",
   "execution_count": 271,
   "metadata": {},
   "outputs": [
    {
     "data": {
      "text/plain": [
       "true"
      ]
     },
     "execution_count": 271,
     "metadata": {},
     "output_type": "execute_result"
    }
   ],
   "source": [
    "less = 32+20+10\n",
    "bet = 29+23+34\n",
    "more = 30+35+20\n",
    "dem = 32+29+30\n",
    "rep = 20+23+35\n",
    "other = 10+34+20\n",
    "total = less+bet+more\n",
    "dem+rep+other == less+bet+more"
   ]
  },
  {
   "cell_type": "code",
   "execution_count": 272,
   "metadata": {},
   "outputs": [
    {
     "data": {
      "text/plain": [
       "3×3 Array{Float64,2}:\n",
       " 24.2146  20.7554  17.03  \n",
       " 33.588   28.7897  23.6223\n",
       " 33.1974  28.4549  23.3476"
      ]
     },
     "execution_count": 272,
     "metadata": {},
     "output_type": "execute_result"
    }
   ],
   "source": [
    "expected = ([less*dem less*rep less*other;\n",
    "bet*dem bet*rep bet*other;\n",
    "        more*dem more*rep more*other]./total)"
   ]
  },
  {
   "cell_type": "code",
   "execution_count": 273,
   "metadata": {},
   "outputs": [
    {
     "data": {
      "text/plain": [
       "3×3 Array{Int64,2}:\n",
       " 32  20  10\n",
       " 29  23  34\n",
       " 30  35  20"
      ]
     },
     "execution_count": 273,
     "metadata": {},
     "output_type": "execute_result"
    }
   ],
   "source": [
    "observed = ([32 20 10; 29 23 34; 30 35 20])"
   ]
  },
  {
   "cell_type": "code",
   "execution_count": 274,
   "metadata": {},
   "outputs": [
    {
     "data": {
      "text/plain": [
       "3×3 Array{Float64,2}:\n",
       " 60.6126   0.570576   49.4215\n",
       " 21.0496  33.5206    107.696 \n",
       " 10.2235  42.8379     11.2067"
      ]
     },
     "execution_count": 274,
     "metadata": {},
     "output_type": "execute_result"
    }
   ],
   "source": [
    "square = (observed .- expected) .^2 "
   ]
  },
  {
   "cell_type": "code",
   "execution_count": 275,
   "metadata": {},
   "outputs": [
    {
     "data": {
      "text/plain": [
       "14.076186719999328"
      ]
     },
     "execution_count": 275,
     "metadata": {},
     "output_type": "execute_result"
    }
   ],
   "source": [
    "chi_star = sum(square ./ expected)"
   ]
  },
  {
   "cell_type": "code",
   "execution_count": 276,
   "metadata": {},
   "outputs": [
    {
     "data": {
      "text/plain": [
       "0.007055827208204968"
      ]
     },
     "execution_count": 276,
     "metadata": {},
     "output_type": "execute_result"
    }
   ],
   "source": [
    "chisq4 = Chisq(4)\n",
    "1-cdf(chisq4, chi_star)"
   ]
  },
  {
   "cell_type": "markdown",
   "metadata": {},
   "source": [
    "### 2\n",
    "\n",
    "Now not all observed values are at least $5$ (less than $\\$30000$,other) and (between $\\$30000$ and $\\$100000$, other), we need to correct it. Since the question is asking if Republicans seem to have higher incomes the non-republicans, it would not be a problem to merge \"Other\" into \"Democrat\" and to treat the new column as \"Non-Republican.\" Now, all observed values are at least $5$.\n",
    "\n",
    "Therefore, our null and alternative hypothesis would be\n",
    "\n",
    "$H_O: $ There is no relationship between whether a person is Republican and a person's income.\n",
    "\n",
    "$H_A: $ There is a relationship between whether a person is Republican and a person's income.\n",
    "\n",
    "$df=(3-1)(2-1)=2,\\, \\alpha=0.05, \\chi* = 13.5$ and from the table, $\\chi^2_{0.01}(2)=9.210<13.5$. So $p<0.01$.\n",
    "\n",
    "Since $p<\\alpha\\,(p<0.05)$, we can conclude $H_A$ that tere is a relationship between whether a person is Republican and a person's income.And it looks like that Republicans have higher incomes than non-repablicans since the proportion of non-repabulicans is greater among people whose incomes are $\\$100000$ or less, but the proportion of Republicans is greater for those whose incommes are more than $\\$100000$."
   ]
  },
  {
   "cell_type": "code",
   "execution_count": 277,
   "metadata": {},
   "outputs": [
    {
     "data": {
      "text/html": [
       "<table class=\"data-frame\"><thead><tr><th></th><th>x1</th><th>x2</th><th>x3</th></tr><tr><th></th><th>Any</th><th>Any</th><th>Any</th></tr></thead><tbody><p>4 rows × 3 columns</p><tr><th>1</th><td></td><td>non</td><td>repabulicans</td></tr><tr><th>2</th><td>less than</td><td>24</td><td>7</td></tr><tr><th>3</th><td>between</td><td>31</td><td>13</td></tr><tr><th>4</th><td>more than</td><td>26</td><td>35</td></tr></tbody></table>"
      ],
      "text/latex": [
       "\\begin{tabular}{r|ccc}\n",
       "\t& x1 & x2 & x3\\\\\n",
       "\t\\hline\n",
       "\t& Any & Any & Any\\\\\n",
       "\t\\hline\n",
       "\t1 &  & non & repabulicans \\\\\n",
       "\t2 & less than & 24 & 7 \\\\\n",
       "\t3 & between & 31 & 13 \\\\\n",
       "\t4 & more than & 26 & 35 \\\\\n",
       "\\end{tabular}\n"
      ],
      "text/plain": [
       "4×3 DataFrame\n",
       "│ Row │ x1        │ x2  │ x3           │\n",
       "│     │ \u001b[90mAny\u001b[39m       │ \u001b[90mAny\u001b[39m │ \u001b[90mAny\u001b[39m          │\n",
       "├─────┼───────────┼─────┼──────────────┤\n",
       "│ 1   │           │ non │ repabulicans │\n",
       "│ 2   │ less than │ 24  │ 7            │\n",
       "│ 3   │ between   │ 31  │ 13           │\n",
       "│ 4   │ more than │ 26  │ 35           │"
      ]
     },
     "execution_count": 277,
     "metadata": {},
     "output_type": "execute_result"
    }
   ],
   "source": [
    "observed = [20+4 7; 28+3 13; 20+6 35]\n",
    "df=DataFrame([\"\" \"non\" \"repabulicans\"; \"less than\" 20+4 7; \"between\" 28+3 13; \"more than\" 20+6 35])\n"
   ]
  },
  {
   "cell_type": "code",
   "execution_count": 278,
   "metadata": {},
   "outputs": [
    {
     "data": {
      "text/html": [
       "<table class=\"data-frame\"><thead><tr><th></th><th>less</th><th>between</th><th>more</th><th>total</th></tr><tr><th></th><th>Int64</th><th>Int64</th><th>Int64</th><th>Int64</th></tr></thead><tbody><p>1 rows × 4 columns</p><tr><th>1</th><td>31</td><td>44</td><td>61</td><td>136</td></tr></tbody></table>"
      ],
      "text/latex": [
       "\\begin{tabular}{r|cccc}\n",
       "\t& less & between & more & total\\\\\n",
       "\t\\hline\n",
       "\t& Int64 & Int64 & Int64 & Int64\\\\\n",
       "\t\\hline\n",
       "\t1 & 31 & 44 & 61 & 136 \\\\\n",
       "\\end{tabular}\n"
      ],
      "text/plain": [
       "1×4 DataFrame\n",
       "│ Row │ less  │ between │ more  │ total │\n",
       "│     │ \u001b[90mInt64\u001b[39m │ \u001b[90mInt64\u001b[39m   │ \u001b[90mInt64\u001b[39m │ \u001b[90mInt64\u001b[39m │\n",
       "├─────┼───────┼─────────┼───────┼───────┤\n",
       "│ 1   │ 31    │ 44      │ 61    │ 136   │"
      ]
     },
     "execution_count": 278,
     "metadata": {},
     "output_type": "execute_result"
    }
   ],
   "source": [
    "less = sum(observed[1,:])\n",
    "bet = sum(observed[2,:])\n",
    "more = sum(observed[3,:])\n",
    "total1 = less+bet+more\n",
    "DataFrame(less=less,between=bet,more=more,total=total1)"
   ]
  },
  {
   "cell_type": "code",
   "execution_count": 279,
   "metadata": {},
   "outputs": [
    {
     "data": {
      "text/html": [
       "<table class=\"data-frame\"><thead><tr><th></th><th>non</th><th>republican</th><th>total</th></tr><tr><th></th><th>Int64</th><th>Int64</th><th>Int64</th></tr></thead><tbody><p>1 rows × 3 columns</p><tr><th>1</th><td>81</td><td>55</td><td>136</td></tr></tbody></table>"
      ],
      "text/latex": [
       "\\begin{tabular}{r|ccc}\n",
       "\t& non & republican & total\\\\\n",
       "\t\\hline\n",
       "\t& Int64 & Int64 & Int64\\\\\n",
       "\t\\hline\n",
       "\t1 & 81 & 55 & 136 \\\\\n",
       "\\end{tabular}\n"
      ],
      "text/plain": [
       "1×3 DataFrame\n",
       "│ Row │ non   │ republican │ total │\n",
       "│     │ \u001b[90mInt64\u001b[39m │ \u001b[90mInt64\u001b[39m      │ \u001b[90mInt64\u001b[39m │\n",
       "├─────┼───────┼────────────┼───────┤\n",
       "│ 1   │ 81    │ 55         │ 136   │"
      ]
     },
     "execution_count": 279,
     "metadata": {},
     "output_type": "execute_result"
    }
   ],
   "source": [
    "non = sum(observed[:,1])\n",
    "rep = sum(observed[:,2])\n",
    "total2 = non+rep\n",
    "DataFrame(non=non, republican=rep, total=total2)"
   ]
  },
  {
   "cell_type": "code",
   "execution_count": 280,
   "metadata": {},
   "outputs": [
    {
     "data": {
      "text/html": [
       "<table class=\"data-frame\"><thead><tr><th></th><th>x1</th><th>x2</th><th>x3</th></tr><tr><th></th><th>Any</th><th>Any</th><th>Any</th></tr></thead><tbody><p>4 rows × 3 columns</p><tr><th>1</th><td></td><td>non</td><td>repabulicans</td></tr><tr><th>2</th><td>less than</td><td>18.4632</td><td>12.5368</td></tr><tr><th>3</th><td>between</td><td>26.2059</td><td>17.7941</td></tr><tr><th>4</th><td>more than</td><td>36.3309</td><td>24.6691</td></tr></tbody></table>"
      ],
      "text/latex": [
       "\\begin{tabular}{r|ccc}\n",
       "\t& x1 & x2 & x3\\\\\n",
       "\t\\hline\n",
       "\t& Any & Any & Any\\\\\n",
       "\t\\hline\n",
       "\t1 &  & non & repabulicans \\\\\n",
       "\t2 & less than & 18.4632 & 12.5368 \\\\\n",
       "\t3 & between & 26.2059 & 17.7941 \\\\\n",
       "\t4 & more than & 36.3309 & 24.6691 \\\\\n",
       "\\end{tabular}\n"
      ],
      "text/plain": [
       "4×3 DataFrame\n",
       "│ Row │ x1        │ x2      │ x3           │\n",
       "│     │ \u001b[90mAny\u001b[39m       │ \u001b[90mAny\u001b[39m     │ \u001b[90mAny\u001b[39m          │\n",
       "├─────┼───────────┼─────────┼──────────────┤\n",
       "│ 1   │           │ non     │ repabulicans │\n",
       "│ 2   │ less than │ 18.4632 │ 12.5368      │\n",
       "│ 3   │ between   │ 26.2059 │ 17.7941      │\n",
       "│ 4   │ more than │ 36.3309 │ 24.6691      │"
      ]
     },
     "execution_count": 280,
     "metadata": {},
     "output_type": "execute_result"
    }
   ],
   "source": [
    "expected = ([less*non/total1 less*rep/total1;\n",
    "bet*non/total1 bet*rep/total1;\n",
    "        more*non/total1 more*rep/total1])\n",
    "DataFrame([\"\" \"non\" \"repabulicans\"; \"less than\" less*non/total1 less*rep/total1;\n",
    "\"between\" bet*non/total1 bet*rep/total1;\n",
    "        \"more than\" more*non/total1 more*rep/total1])"
   ]
  },
  {
   "cell_type": "code",
   "execution_count": 281,
   "metadata": {},
   "outputs": [
    {
     "data": {
      "text/plain": [
       "3×2 Array{Float64,2}:\n",
       "  30.6558   30.6558\n",
       "  22.9836   22.9836\n",
       " 106.727   106.727 "
      ]
     },
     "execution_count": 281,
     "metadata": {},
     "output_type": "execute_result"
    }
   ],
   "source": [
    "square = (observed .- expected) .^2"
   ]
  },
  {
   "cell_type": "code",
   "execution_count": 282,
   "metadata": {},
   "outputs": [
    {
     "data": {
      "text/plain": [
       "13.538301464074262"
      ]
     },
     "execution_count": 282,
     "metadata": {},
     "output_type": "execute_result"
    }
   ],
   "source": [
    "chi_star = sum(square ./ expected)"
   ]
  },
  {
   "cell_type": "code",
   "execution_count": 283,
   "metadata": {},
   "outputs": [
    {
     "data": {
      "text/plain": [
       "0.001148669765207666"
      ]
     },
     "execution_count": 283,
     "metadata": {},
     "output_type": "execute_result"
    }
   ],
   "source": [
    "chisq2 = Chisq(2)\n",
    "1-cdf(chisq2, chi_star)"
   ]
  },
  {
   "cell_type": "markdown",
   "metadata": {},
   "source": [
    "### 3\n",
    "\n",
    "$H_O: $ The sample came from a Binomial distribution with ($m=10, \\hat p=0.32$) \n",
    "\n",
    "$H_A: $ The sample did not come from a Binomial distribution with ($m=10, \\hat p=0.32$)\n",
    "\n",
    "$df=6-1-1=4 \\,, \\alpha=0.1 \\,, \\chi*=2.82$ and from the table, $\\chi^2_{0.90}(4)=1.064 \\,, \\chi^2_{0.10}(4)=7.779$. So $0.10 < p <0.90$. Since $p>\\alpha\\,(p>0.10)$, we cannot conclude our $H_A$ that the sample did not come from a Binomial distribution with ($m=10, \\hat p=0.32$)."
   ]
  },
  {
   "cell_type": "code",
   "execution_count": 284,
   "metadata": {},
   "outputs": [
    {
     "data": {
      "text/plain": [
       "50×1 LinearAlgebra.Adjoint{Int64,Array{Int64,2}}:\n",
       " 7\n",
       " 2\n",
       " 1\n",
       " 3\n",
       " 4\n",
       " 2\n",
       " 3\n",
       " 3\n",
       " 3\n",
       " 5\n",
       " 3\n",
       " 4\n",
       " 4\n",
       " ⋮\n",
       " 2\n",
       " 2\n",
       " 6\n",
       " 3\n",
       " 3\n",
       " 4\n",
       " 4\n",
       " 1\n",
       " 4\n",
       " 3\n",
       " 4\n",
       " 3"
      ]
     },
     "execution_count": 284,
     "metadata": {},
     "output_type": "execute_result"
    }
   ],
   "source": [
    "data = ([7 2 1 3 4 2 3 3 3 5 3 4 4 1 1 7 5 2 5 2 2 4 1 4 5 3 6 2 4 4 3 5 1 3 0 6 1 0 2 2 6 3 3 4 4 1 4 3 4 3])\n",
    "data = data'"
   ]
  },
  {
   "cell_type": "code",
   "execution_count": 285,
   "metadata": {},
   "outputs": [],
   "source": [
    "is2(x)=x==2;is3(x)=x==3;is4(x)=x==4;\n",
    "is5(x)=x==5;is6(x)=x==6;is7(x)=x==7;"
   ]
  },
  {
   "cell_type": "code",
   "execution_count": 286,
   "metadata": {},
   "outputs": [
    {
     "name": "stderr",
     "output_type": "stream",
     "text": [
      "┌ Warning: `names!(df::AbstractDataFrame, vals::Vector{Symbol}; makeunique::Bool=false)` is deprecated, use `rename!(df, vals, makeunique=makeunique)` instead.\n",
      "│   caller = top-level scope at In[286]:3\n",
      "└ @ Core In[286]:3\n"
     ]
    },
    {
     "data": {
      "text/html": [
       "<table class=\"data-frame\"><thead><tr><th></th><th>0</th><th>1</th><th>2</th><th>3</th><th>4</th><th>5</th><th>6</th><th>7</th></tr><tr><th></th><th>Int64</th><th>Int64</th><th>Int64</th><th>Int64</th><th>Int64</th><th>Int64</th><th>Int64</th><th>Int64</th></tr></thead><tbody><p>1 rows × 8 columns</p><tr><th>1</th><td>2</td><td>7</td><td>8</td><td>12</td><td>11</td><td>5</td><td>3</td><td>2</td></tr></tbody></table>"
      ],
      "text/latex": [
       "\\begin{tabular}{r|cccccccc}\n",
       "\t& 0 & 1 & 2 & 3 & 4 & 5 & 6 & 7\\\\\n",
       "\t\\hline\n",
       "\t& Int64 & Int64 & Int64 & Int64 & Int64 & Int64 & Int64 & Int64\\\\\n",
       "\t\\hline\n",
       "\t1 & 2 & 7 & 8 & 12 & 11 & 5 & 3 & 2 \\\\\n",
       "\\end{tabular}\n"
      ],
      "text/plain": [
       "1×8 DataFrame\n",
       "│ Row │ 0     │ 1     │ 2     │ 3     │ 4     │ 5     │ 6     │ 7     │\n",
       "│     │ \u001b[90mInt64\u001b[39m │ \u001b[90mInt64\u001b[39m │ \u001b[90mInt64\u001b[39m │ \u001b[90mInt64\u001b[39m │ \u001b[90mInt64\u001b[39m │ \u001b[90mInt64\u001b[39m │ \u001b[90mInt64\u001b[39m │ \u001b[90mInt64\u001b[39m │\n",
       "├─────┼───────┼───────┼───────┼───────┼───────┼───────┼───────┼───────┤\n",
       "│ 1   │ 2     │ 7     │ 8     │ 12    │ 11    │ 5     │ 3     │ 2     │"
      ]
     },
     "execution_count": 286,
     "metadata": {},
     "output_type": "execute_result"
    }
   ],
   "source": [
    "freq=([count(iszero,data),count(isone,data),count(is2,data),count(is3,data),count(is4,data),\n",
    "count(is5,data),count(is6,data), count(is7,data)])\n",
    "names!(DataFrame(freq'),Symbol.([\"0\",\"1\",\"2\",\"3\",\"4\",\"5\",\"6\",\"7\"]))"
   ]
  },
  {
   "cell_type": "code",
   "execution_count": 287,
   "metadata": {},
   "outputs": [
    {
     "name": "stderr",
     "output_type": "stream",
     "text": [
      "┌ Warning: `names!(df::AbstractDataFrame, vals::Vector{Symbol}; makeunique::Bool=false)` is deprecated, use `rename!(df, vals, makeunique=makeunique)` instead.\n",
      "│   caller = top-level scope at In[287]:2\n",
      "└ @ Core In[287]:2\n"
     ]
    },
    {
     "data": {
      "text/html": [
       "<table class=\"data-frame\"><thead><tr><th></th><th>0-1</th><th>2</th><th>3</th><th>4</th><th>5</th><th>6 or more</th></tr><tr><th></th><th>Int64</th><th>Int64</th><th>Int64</th><th>Int64</th><th>Int64</th><th>Int64</th></tr></thead><tbody><p>1 rows × 6 columns</p><tr><th>1</th><td>9</td><td>8</td><td>12</td><td>11</td><td>5</td><td>5</td></tr></tbody></table>"
      ],
      "text/latex": [
       "\\begin{tabular}{r|cccccc}\n",
       "\t& 0-1 & 2 & 3 & 4 & 5 & 6 or more\\\\\n",
       "\t\\hline\n",
       "\t& Int64 & Int64 & Int64 & Int64 & Int64 & Int64\\\\\n",
       "\t\\hline\n",
       "\t1 & 9 & 8 & 12 & 11 & 5 & 5 \\\\\n",
       "\\end{tabular}\n"
      ],
      "text/plain": [
       "1×6 DataFrame\n",
       "│ Row │ 0-1   │ 2     │ 3     │ 4     │ 5     │ 6 or more │\n",
       "│     │ \u001b[90mInt64\u001b[39m │ \u001b[90mInt64\u001b[39m │ \u001b[90mInt64\u001b[39m │ \u001b[90mInt64\u001b[39m │ \u001b[90mInt64\u001b[39m │ \u001b[90mInt64\u001b[39m     │\n",
       "├─────┼───────┼───────┼───────┼───────┼───────┼───────────┤\n",
       "│ 1   │ 9     │ 8     │ 12    │ 11    │ 5     │ 5         │"
      ]
     },
     "execution_count": 287,
     "metadata": {},
     "output_type": "execute_result"
    }
   ],
   "source": [
    "freq_correct=[9,8,12,11,5,5]\n",
    "names!(DataFrame(freq_correct'),Symbol.([\"0-1\",\"2\",\"3\",\"4\",\"5\",\"6 or more\"]))"
   ]
  },
  {
   "cell_type": "code",
   "execution_count": 288,
   "metadata": {},
   "outputs": [
    {
     "data": {
      "text/plain": [
       "0.32"
      ]
     },
     "execution_count": 288,
     "metadata": {},
     "output_type": "execute_result"
    }
   ],
   "source": [
    "p_hat=sum(freq .* [0,1,2,3,4,5,6,7] )/(10*50)"
   ]
  },
  {
   "cell_type": "code",
   "execution_count": 289,
   "metadata": {},
   "outputs": [
    {
     "data": {
      "text/plain": [
       "Binomial{Float64}(n=10, p=0.32)"
      ]
     },
     "execution_count": 289,
     "metadata": {},
     "output_type": "execute_result"
    }
   ],
   "source": [
    "bin_10 =Binomial(10,p_hat)"
   ]
  },
  {
   "cell_type": "code",
   "execution_count": 290,
   "metadata": {},
   "outputs": [
    {
     "name": "stderr",
     "output_type": "stream",
     "text": [
      "┌ Warning: `names!(df::AbstractDataFrame, vals::Vector{Symbol}; makeunique::Bool=false)` is deprecated, use `rename!(df, vals, makeunique=makeunique)` instead.\n",
      "│   caller = top-level scope at In[290]:3\n",
      "└ @ Core In[290]:3\n"
     ]
    },
    {
     "data": {
      "text/html": [
       "<table class=\"data-frame\"><thead><tr><th></th><th>0-1</th><th>2</th><th>3</th><th>4</th><th>5</th><th>6 or more</th></tr><tr><th></th><th>Float64</th><th>Float64</th><th>Float64</th><th>Float64</th><th>Float64</th><th>Float64</th></tr></thead><tbody><p>1 rows × 6 columns</p><tr><th>1</th><td>6.0309</td><td>10.533</td><td>13.2179</td><td>10.8854</td><td>6.14703</td><td>3.18575</td></tr></tbody></table>"
      ],
      "text/latex": [
       "\\begin{tabular}{r|cccccc}\n",
       "\t& 0-1 & 2 & 3 & 4 & 5 & 6 or more\\\\\n",
       "\t\\hline\n",
       "\t& Float64 & Float64 & Float64 & Float64 & Float64 & Float64\\\\\n",
       "\t\\hline\n",
       "\t1 & 6.0309 & 10.533 & 13.2179 & 10.8854 & 6.14703 & 3.18575 \\\\\n",
       "\\end{tabular}\n"
      ],
      "text/plain": [
       "1×6 DataFrame\n",
       "│ Row │ 0-1     │ 2       │ 3       │ 4       │ 5       │ 6 or more │\n",
       "│     │ \u001b[90mFloat64\u001b[39m │ \u001b[90mFloat64\u001b[39m │ \u001b[90mFloat64\u001b[39m │ \u001b[90mFloat64\u001b[39m │ \u001b[90mFloat64\u001b[39m │ \u001b[90mFloat64\u001b[39m   │\n",
       "├─────┼─────────┼─────────┼─────────┼─────────┼─────────┼───────────┤\n",
       "│ 1   │ 6.0309  │ 10.533  │ 13.2179 │ 10.8854 │ 6.14703 │ 3.18575   │"
      ]
     },
     "execution_count": 290,
     "metadata": {},
     "output_type": "execute_result"
    }
   ],
   "source": [
    "expected = 50*[cdf(bin_10,1), pdf(bin_10,2), pdf(bin_10,3), pdf(bin_10,4),\n",
    "pdf(bin_10,5), (1-cdf(bin_10,5))]\n",
    "names!(DataFrame(expected'),Symbol.([\"0-1\",\"2\",\"3\",\"4\",\"5\",\"6 or more\"]))"
   ]
  },
  {
   "cell_type": "code",
   "execution_count": 291,
   "metadata": {},
   "outputs": [
    {
     "data": {
      "text/plain": [
       "49.99999999999999"
      ]
     },
     "execution_count": 291,
     "metadata": {},
     "output_type": "execute_result"
    }
   ],
   "source": [
    "sum(expected)"
   ]
  },
  {
   "cell_type": "code",
   "execution_count": 292,
   "metadata": {},
   "outputs": [
    {
     "data": {
      "text/plain": [
       "6-element Array{Float64,1}:\n",
       " 8.815569907836405   \n",
       " 6.416296918499832   \n",
       " 1.4833628779388353  \n",
       " 0.013142950200864157\n",
       " 1.3156670274538924  \n",
       " 3.291521000357493   "
      ]
     },
     "execution_count": 292,
     "metadata": {},
     "output_type": "execute_result"
    }
   ],
   "source": [
    "square = (freq_correct .- expected) .^2"
   ]
  },
  {
   "cell_type": "code",
   "execution_count": 293,
   "metadata": {},
   "outputs": [
    {
     "data": {
      "text/plain": [
       "2.8277908747283282"
      ]
     },
     "execution_count": 293,
     "metadata": {},
     "output_type": "execute_result"
    }
   ],
   "source": [
    "chi_star = sum(square ./ freq_correct)"
   ]
  },
  {
   "cell_type": "code",
   "execution_count": 294,
   "metadata": {},
   "outputs": [
    {
     "data": {
      "text/plain": [
       "0.5870451000229467"
      ]
     },
     "execution_count": 294,
     "metadata": {},
     "output_type": "execute_result"
    }
   ],
   "source": [
    "df = 6-1-1\n",
    "p_val = 1-cdf(chisq4,chi_star)"
   ]
  },
  {
   "cell_type": "markdown",
   "metadata": {},
   "source": [
    "### 4\n",
    "\n",
    "$H_O: $ The sample came from a Binomial distribution with ($m=10, p=0.5$) \n",
    "\n",
    "$H_A: $ The sample did not from a Binomial distribution with ($m=10, p=0.5$)\n",
    "\n",
    "$df=6-1=5 \\,, \\alpha=0.1 \\,, \\chi*=170$ and from the table, $\\chi^2_{0.01}(5)= 15.09 < 170$. So $p <0.10$. Since $p<\\alpha\\,(p<0.10)$, we can conclude our $H_A$ that the sample did not come from a Binomial distribution with ($m=10, p=0.5$)."
   ]
  },
  {
   "cell_type": "code",
   "execution_count": 295,
   "metadata": {},
   "outputs": [
    {
     "name": "stderr",
     "output_type": "stream",
     "text": [
      "┌ Warning: `names!(df::AbstractDataFrame, vals::Vector{Symbol}; makeunique::Bool=false)` is deprecated, use `rename!(df, vals, makeunique=makeunique)` instead.\n",
      "│   caller = top-level scope at In[295]:6\n",
      "└ @ Core In[295]:6\n"
     ]
    },
    {
     "data": {
      "text/html": [
       "<table class=\"data-frame\"><thead><tr><th></th><th>0-1</th><th>2</th><th>3</th><th>4</th><th>5</th><th>6 or more</th></tr><tr><th></th><th>Float64</th><th>Float64</th><th>Float64</th><th>Float64</th><th>Float64</th><th>Float64</th></tr></thead><tbody><p>1 rows × 6 columns</p><tr><th>1</th><td>0.537109</td><td>2.19727</td><td>5.85938</td><td>10.2539</td><td>12.3047</td><td>18.8477</td></tr></tbody></table>"
      ],
      "text/latex": [
       "\\begin{tabular}{r|cccccc}\n",
       "\t& 0-1 & 2 & 3 & 4 & 5 & 6 or more\\\\\n",
       "\t\\hline\n",
       "\t& Float64 & Float64 & Float64 & Float64 & Float64 & Float64\\\\\n",
       "\t\\hline\n",
       "\t1 & 0.537109 & 2.19727 & 5.85938 & 10.2539 & 12.3047 & 18.8477 \\\\\n",
       "\\end{tabular}\n"
      ],
      "text/plain": [
       "1×6 DataFrame\n",
       "│ Row │ 0-1      │ 2       │ 3       │ 4       │ 5       │ 6 or more │\n",
       "│     │ \u001b[90mFloat64\u001b[39m  │ \u001b[90mFloat64\u001b[39m │ \u001b[90mFloat64\u001b[39m │ \u001b[90mFloat64\u001b[39m │ \u001b[90mFloat64\u001b[39m │ \u001b[90mFloat64\u001b[39m   │\n",
       "├─────┼──────────┼─────────┼─────────┼─────────┼─────────┼───────────┤\n",
       "│ 1   │ 0.537109 │ 2.19727 │ 5.85938 │ 10.2539 │ 12.3047 │ 18.8477   │"
      ]
     },
     "execution_count": 295,
     "metadata": {},
     "output_type": "execute_result"
    }
   ],
   "source": [
    "bin2 = Binomial(10,0.5)\n",
    "df = 6-1\n",
    "chi5 = Chisq(df)\n",
    "expected = 50*[cdf(bin2,1), pdf(bin2,2), pdf(bin2,3), pdf(bin2,4),\n",
    "pdf(bin2,5), (1-cdf(bin2,5))]\n",
    "names!(DataFrame(expected'),Symbol.([\"0-1\",\"2\",\"3\",\"4\",\"5\",\"6 or more\"]))"
   ]
  },
  {
   "cell_type": "code",
   "execution_count": 296,
   "metadata": {},
   "outputs": [
    {
     "data": {
      "text/plain": [
       "50.000000000000014"
      ]
     },
     "execution_count": 296,
     "metadata": {},
     "output_type": "execute_result"
    }
   ],
   "source": [
    "sum(expected)"
   ]
  },
  {
   "cell_type": "code",
   "execution_count": 297,
   "metadata": {},
   "outputs": [
    {
     "data": {
      "text/plain": [
       "6-element Array{Float64,1}:\n",
       "  71.62051773071289  \n",
       "  33.67172622680666  \n",
       "  37.707275390624915 \n",
       "   0.5566558837890652\n",
       "  53.35845947265628  \n",
       " 191.75758361816426  "
      ]
     },
     "execution_count": 297,
     "metadata": {},
     "output_type": "execute_result"
    }
   ],
   "source": [
    "square = (freq_correct .- expected).^2"
   ]
  },
  {
   "cell_type": "code",
   "execution_count": 298,
   "metadata": {},
   "outputs": [
    {
     "data": {
      "text/plain": [
       "169.66893569297704"
      ]
     },
     "execution_count": 298,
     "metadata": {},
     "output_type": "execute_result"
    }
   ],
   "source": [
    "chi_star = sum(square ./ expected)"
   ]
  },
  {
   "cell_type": "code",
   "execution_count": 299,
   "metadata": {},
   "outputs": [
    {
     "data": {
      "text/plain": [
       "0.0"
      ]
     },
     "execution_count": 299,
     "metadata": {},
     "output_type": "execute_result"
    }
   ],
   "source": [
    "p_val=1-cdf(chi5,chi_star)"
   ]
  },
  {
   "cell_type": "markdown",
   "metadata": {},
   "source": [
    "### 5\n",
    "$H_O: \\, p=0.5 \\, H_A: \\, p \\neq 0.5$\n",
    "\n",
    "$\\hat p= \\frac{0*2+1*7+2*8+3*12+4*11+5*5+6*3+7*2}{50*10}=0.32, \\, K=0.5, \\, \\alpha=0.1, \\, n=50,\\,m=10$\n",
    "\n",
    "$Z_1 = (\\hat p-K)/\\sqrt{K(1-K)/n*m}=(0.32-0.5)/\\sqrt{0.5*0.5/500}=-8.05$\n",
    "\n",
    "$p = 2(1-P(Z<|Z_1|))=2(1-P(Z>8.05)) \\approx 0$\n",
    "\n",
    "Therefore, $p$-value in $\\#5\\,$is almost the same as in $\\#4$ so we can conclude $H_A$ "
   ]
  },
  {
   "cell_type": "code",
   "execution_count": 300,
   "metadata": {},
   "outputs": [
    {
     "data": {
      "text/plain": [
       "-8.049844718999243"
      ]
     },
     "execution_count": 300,
     "metadata": {},
     "output_type": "execute_result"
    }
   ],
   "source": [
    "z1=(0.32-0.5)/sqrt(0.5^2/500)"
   ]
  },
  {
   "cell_type": "code",
   "execution_count": 301,
   "metadata": {},
   "outputs": [
    {
     "data": {
      "text/plain": [
       "8.881784197001252e-16"
      ]
     },
     "execution_count": 301,
     "metadata": {},
     "output_type": "execute_result"
    }
   ],
   "source": [
    "Z = Normal()\n",
    "2*(1-cdf(Z,-z1))"
   ]
  },
  {
   "cell_type": "markdown",
   "metadata": {},
   "source": [
    "### 6\n",
    "\n",
    "$H_O: $ The die is unbiased, and the sample came from a Descrete Uniform $(m=6)$ distribution.\n",
    "\n",
    "$H_A: $ The die is biased, and the sample did not came from a Descrete Uniform $(m=6)$ distribution. \n",
    "\n",
    "$df=6-1=5 \\,, \\alpha=0.10 \\,, \\chi*=2.29$ and from the table, $\\chi^2_{0.90}(5)=1.610\\,,\\chi^2_{0.1}(5)=9.234$. So $0.1<p<0.9$. Since $p>\\alpha\\,(p>0.10)$, we cannot conclude $H_A$ that the die is biased, and the sample did not came from a Descrete Uniform $(m=6)$ distribution. \n"
   ]
  },
  {
   "cell_type": "code",
   "execution_count": 302,
   "metadata": {},
   "outputs": [
    {
     "name": "stderr",
     "output_type": "stream",
     "text": [
      "┌ Warning: `names!(df::AbstractDataFrame, vals::Vector{Symbol}; makeunique::Bool=false)` is deprecated, use `rename!(df, vals, makeunique=makeunique)` instead.\n",
      "│   caller = top-level scope at In[302]:5\n",
      "└ @ Core In[302]:5\n"
     ]
    },
    {
     "data": {
      "text/html": [
       "<table class=\"data-frame\"><thead><tr><th></th><th>1</th><th>2</th><th>3</th><th>4</th><th>5</th><th>6</th></tr><tr><th></th><th>Int64</th><th>Int64</th><th>Int64</th><th>Int64</th><th>Int64</th><th>Int64</th></tr></thead><tbody><p>1 rows × 6 columns</p><tr><th>1</th><td>7</td><td>8</td><td>6</td><td>5</td><td>10</td><td>6</td></tr></tbody></table>"
      ],
      "text/latex": [
       "\\begin{tabular}{r|cccccc}\n",
       "\t& 1 & 2 & 3 & 4 & 5 & 6\\\\\n",
       "\t\\hline\n",
       "\t& Int64 & Int64 & Int64 & Int64 & Int64 & Int64\\\\\n",
       "\t\\hline\n",
       "\t1 & 7 & 8 & 6 & 5 & 10 & 6 \\\\\n",
       "\\end{tabular}\n"
      ],
      "text/plain": [
       "1×6 DataFrame\n",
       "│ Row │ 1     │ 2     │ 3     │ 4     │ 5     │ 6     │\n",
       "│     │ \u001b[90mInt64\u001b[39m │ \u001b[90mInt64\u001b[39m │ \u001b[90mInt64\u001b[39m │ \u001b[90mInt64\u001b[39m │ \u001b[90mInt64\u001b[39m │ \u001b[90mInt64\u001b[39m │\n",
       "├─────┼───────┼───────┼───────┼───────┼───────┼───────┤\n",
       "│ 1   │ 7     │ 8     │ 6     │ 5     │ 10    │ 6     │"
      ]
     },
     "execution_count": 302,
     "metadata": {},
     "output_type": "execute_result"
    }
   ],
   "source": [
    "data = [2 1 6 5 2 5 2 2 4 1 4 5 3 6 4 4 3 5 1 3 5 6 1 5 2 2 6 3 1 4 3 5 2 6 6 1 5 2 5 1 3 5]\n",
    "data';\n",
    "freq=([count(isone,data),count(is2,data),count(is3,data),count(is4,data),\n",
    "count(is5,data),count(is6,data)])\n",
    "names!(DataFrame(freq'),Symbol.([\"1\",\"2\",\"3\",\"4\",\"5\",\"6\"]))"
   ]
  },
  {
   "cell_type": "code",
   "execution_count": 303,
   "metadata": {},
   "outputs": [
    {
     "name": "stderr",
     "output_type": "stream",
     "text": [
      "┌ Warning: `names!(df::AbstractDataFrame, vals::Vector{Symbol}; makeunique::Bool=false)` is deprecated, use `rename!(df, vals, makeunique=makeunique)` instead.\n",
      "│   caller = top-level scope at In[303]:3\n",
      "└ @ Core In[303]:3\n"
     ]
    },
    {
     "data": {
      "text/html": [
       "<table class=\"data-frame\"><thead><tr><th></th><th>1</th><th>2</th><th>3</th><th>4</th><th>5</th><th>6</th></tr><tr><th></th><th>Float64</th><th>Float64</th><th>Float64</th><th>Float64</th><th>Float64</th><th>Float64</th></tr></thead><tbody><p>1 rows × 6 columns</p><tr><th>1</th><td>7.0</td><td>7.0</td><td>7.0</td><td>7.0</td><td>7.0</td><td>7.0</td></tr></tbody></table>"
      ],
      "text/latex": [
       "\\begin{tabular}{r|cccccc}\n",
       "\t& 1 & 2 & 3 & 4 & 5 & 6\\\\\n",
       "\t\\hline\n",
       "\t& Float64 & Float64 & Float64 & Float64 & Float64 & Float64\\\\\n",
       "\t\\hline\n",
       "\t1 & 7.0 & 7.0 & 7.0 & 7.0 & 7.0 & 7.0 \\\\\n",
       "\\end{tabular}\n"
      ],
      "text/plain": [
       "1×6 DataFrame\n",
       "│ Row │ 1       │ 2       │ 3       │ 4       │ 5       │ 6       │\n",
       "│     │ \u001b[90mFloat64\u001b[39m │ \u001b[90mFloat64\u001b[39m │ \u001b[90mFloat64\u001b[39m │ \u001b[90mFloat64\u001b[39m │ \u001b[90mFloat64\u001b[39m │ \u001b[90mFloat64\u001b[39m │\n",
       "├─────┼─────────┼─────────┼─────────┼─────────┼─────────┼─────────┤\n",
       "│ 1   │ 7.0     │ 7.0     │ 7.0     │ 7.0     │ 7.0     │ 7.0     │"
      ]
     },
     "execution_count": 303,
     "metadata": {},
     "output_type": "execute_result"
    }
   ],
   "source": [
    "expected = length(data) ./ 6\n",
    "expected_ary = [expected, expected,expected, expected, expected,expected]\n",
    "names!(DataFrame(expected_ary'),Symbol.([\"1\",\"2\",\"3\",\"4\",\"5\",\"6\"]))"
   ]
  },
  {
   "cell_type": "code",
   "execution_count": 304,
   "metadata": {},
   "outputs": [
    {
     "data": {
      "text/plain": [
       "6-element Array{Float64,1}:\n",
       " 0.0\n",
       " 1.0\n",
       " 1.0\n",
       " 4.0\n",
       " 9.0\n",
       " 1.0"
      ]
     },
     "execution_count": 304,
     "metadata": {},
     "output_type": "execute_result"
    }
   ],
   "source": [
    "square = (freq .- expected_ary) .^2"
   ]
  },
  {
   "cell_type": "code",
   "execution_count": 305,
   "metadata": {},
   "outputs": [
    {
     "data": {
      "text/plain": [
       "2.2857142857142856"
      ]
     },
     "execution_count": 305,
     "metadata": {},
     "output_type": "execute_result"
    }
   ],
   "source": [
    "chi_star = sum(square ./ expected_ary)"
   ]
  },
  {
   "cell_type": "code",
   "execution_count": 306,
   "metadata": {},
   "outputs": [
    {
     "data": {
      "text/plain": [
       "0.8083627560836737"
      ]
     },
     "execution_count": 306,
     "metadata": {},
     "output_type": "execute_result"
    }
   ],
   "source": [
    "chi5 = Chisq(5)\n",
    "1-cdf(chi5,chi_star)"
   ]
  }
 ],
 "metadata": {
  "kernelspec": {
   "display_name": "Julia 1.3.1",
   "language": "julia",
   "name": "julia-1.3"
  },
  "language_info": {
   "file_extension": ".jl",
   "mimetype": "application/julia",
   "name": "julia",
   "version": "1.3.1"
  }
 },
 "nbformat": 4,
 "nbformat_minor": 4
}
