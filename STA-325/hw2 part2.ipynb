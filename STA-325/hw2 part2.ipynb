{
 "cells": [
  {
   "cell_type": "code",
   "execution_count": 1,
   "metadata": {},
   "outputs": [],
   "source": [
    "using Statistics, CSV, DataFrames"
   ]
  },
  {
   "cell_type": "markdown",
   "metadata": {},
   "source": [
    "###### 3.5-7\n",
    "\n",
    "$95%$ CI for $\\bar X$ is $(\\bar x - z_{0.025}*\\frac{\\sigma}{\\sqrt{n}},\\, \\bar x + z_{0.025}*\\frac{\\sigma}{\\sqrt{n}}) \\because \\alpha=0.05$ \n",
    "\n",
    "From the Noraml Table, $z_0.025=1.960$ so the CI is $(\\theta-1.960*\\theta/\\sqrt{n},\\,\\theta+1.960*\\theta/\\sqrt{n})$"
   ]
  },
  {
   "cell_type": "markdown",
   "metadata": {},
   "source": [
    "###### 3.5-8\n",
    "\n",
    "When $\\sigma = 4,$ \n",
    "$\\bar x\\pm8/\\sqrt{n} = \\bar x\\pm0.5$ so $\\sqrt{n}=16$ and $n=256$"
   ]
  },
  {
   "cell_type": "markdown",
   "metadata": {},
   "source": [
    "###### 4.2-7\n",
    "\n",
    "A $95%$ CI in this case is $(\\bar x - t_{\\alpha/2,n-1}*\\frac{s}{\\sqrt{n}}, \\,\\bar x +t_{\\alpha/2,n-1}*\\frac{s}{\\sqrt{n}}) \\because n<30,\\sigma$ is unknown. $\\alpha=0.05, n=9, \\bar x = 20.9, s = 1.86, t_{0.025,8}=0.236$. Therefore it is $(19.47,22.33)$"
   ]
  },
  {
   "cell_type": "markdown",
   "metadata": {},
   "source": [
    "###### 4.2-8\n",
    "\n",
    "(a) the vlaue of a point estimate of $\\mu$ is $\\bar x$ so $\\bar x = \\frac{(3.15+2.99+2.77+3.12+2.45+3.85+2.99+3.87+4.06+2.94+3.53+3.20)}{12}=3.24$\n",
    "\n",
    "(b) point estimates of $\\sigma^2$ and $\\sigma$ are $s^2$ and $s$ respectively. \n",
    "\n",
    "$s^2 = \\frac{\\sum _{i=1}^{n}\\,(x_i-\\bar x)^2}{n-1}=0.24$, where $x_1=3.15,x_2=2.99,$ and so on.\n",
    "\n",
    "$s=\\sqrt{s^2}=0.49$\n",
    "\n",
    "(c) a $90%$ CI for $\\mu$ is $(\\bar x - t_{\\alpha/2,n-1}*\\frac{s}{\\sqrt{n}},\\, \\bar x + t_{\\alpha/2,n-1}*\\frac{s}{\\sqrt{n}}) \\because n<30, \\sigma$ is unknown\n",
    "\n",
    "Since $\\bar x=3.24, \\alpha=0.1, n = 12, s = 0.49, t_{0.05,11}=1.796$, the CI is $(3,3.5)$"
   ]
  },
  {
   "cell_type": "code",
   "execution_count": 26,
   "metadata": {},
   "outputs": [
    {
     "name": "stdout",
     "output_type": "stream",
     "text": [
      "mean data428: 3.2433333333333336 var and std data428: 0.23722424242424234 0.4870567137656993\n",
      "90% CI 428: (2.985954334551181, 3.4940456654488194)\n",
      "\n",
      "mean data427: 20.9 std data428: 1.8584267540045805\n",
      "95% CI 427: (19.47028, 22.32972)\n"
     ]
    },
    {
     "data": {
      "text/plain": [
       "1.8584267540045805"
      ]
     },
     "execution_count": 26,
     "metadata": {},
     "output_type": "execute_result"
    }
   ],
   "source": [
    "data428 =[3.15,2.99,2.77,3.12,2.45,3.85,2.99,3.87,4.06,2.94,3.53,3.2]\n",
    "\n",
    "println(\"mean data428: \", mean(data428), \" var and std data428: \",var(data428), \" \", std(data428))\n",
    "\n",
    "CI428 = 3.24-1.796*0.49/sqrt(12), 3.24+1.796*0.49/sqrt(12)\n",
    "\n",
    "println(\"90% CI 428: \", CI428)\n",
    "println(\"\")\n",
    "\n",
    "data427 = [21.50, 18.95, 18.55, 19.40, 19.15, 22.35, 22.90, 22.20, 23.10]\n",
    "\n",
    "println(\"mean data427: \",mean(data427), \" std data428: \", std(data427))\n",
    "\n",
    "CI427 = 20.9-2.306*1.86/3, 20.9+2.306*1.86/3\n",
    "\n",
    "println(\"95% CI 427: \",CI427)\n",
    "\n",
    "\n",
    "# x_bar = (21.50+18.95+18.55+19.40+19.15+22.35+22.90+22.20+23.10)/9\n",
    "# s = sqrt(((21.50-x_bar)^2+(18.95-x_bar)^2+(18.55-x_bar)^2+(19.40-x_bar)^2+(19.15-x_bar)^2+(22.35-x_bar)^2+(22.90-x_bar)^2+\n",
    "#     (22.20-x_bar)^2+(23.10-x_bar)^2)/8)"
   ]
  },
  {
   "cell_type": "markdown",
   "metadata": {},
   "source": [
    "###### 1)\n",
    "\n",
    "Since n < 30, we assume that the distribution of the delivery time of pizzas is close to Normal(bell shape).\n",
    "\n",
    "The $95%$ CI for $\\mu$, the population mean delivery time of pizzas is $(\\bar x - t_{\\alpha/2,n-1}*\\frac{s}{\\sqrt{n}},\n",
    "\\bar x + t_{\\alpha/2,n-1}*\\frac{s}{\\sqrt{n}})=(28.63-2.074*8.76/\\sqrt{23},28.63+2.074*8.76/\\sqrt{23})=(24.84,32.42) \\because n<30, \\sigma$ is unknown. \n",
    "\n",
    "There was $95%$ chance that we took a representative sample, and if we did, the mean delivery time of pizzas is somewhere\n",
    "between $24.84$ and $32.42$ minutes."
   ]
  },
  {
   "cell_type": "code",
   "execution_count": 27,
   "metadata": {},
   "outputs": [
    {
     "data": {
      "text/plain": [
       "(24.84166008195169, 32.418339918048304)"
      ]
     },
     "execution_count": 27,
     "metadata": {},
     "output_type": "execute_result"
    }
   ],
   "source": [
    "#1\n",
    "28.63-2.074*8.76/(sqrt(23)),28.63+2.074*8.76/(sqrt(23))"
   ]
  },
  {
   "cell_type": "markdown",
   "metadata": {},
   "source": [
    "###### 2)\n",
    "\n",
    "Since n>30, we do not have to make an assumption about the population distribution.\n",
    "\n",
    "The $80%$ CI for $\\mu$, mean weight of adult males is $(\\bar x - z_{\\alpha/2}*\\frac{s}{\\sqrt{n}},\\,\\bar x + z_{\\alpha/2}*\\frac{s}{\\sqrt{n}})=(198.56-1.282*21.02/\\sqrt(42),198.56+1.282*21.02/\\sqrt(42))=(194.40,202.72)$\n",
    "\n",
    "There was 80% chance that we took a representative sample, and if we did, the mean weight of adult males is somewhere between $194.40$ and $202.72$ pounds."
   ]
  },
  {
   "cell_type": "code",
   "execution_count": 28,
   "metadata": {},
   "outputs": [
    {
     "data": {
      "text/plain": [
       "(194.40188887442753, 202.71811112557248)"
      ]
     },
     "execution_count": 28,
     "metadata": {},
     "output_type": "execute_result"
    }
   ],
   "source": [
    "#2\n",
    "198.56-1.282*21.02/(sqrt(42)),198.56+1.282*21.02/(sqrt(42))"
   ]
  },
  {
   "cell_type": "markdown",
   "metadata": {},
   "source": [
    "###### 3)\n",
    "\n",
    "a) Our approximate $90%$ CI for $p$ is $(\\hat p - z_{\\alpha/2}*\\sqrt{\\frac{\\hat p(1-\\hat p)}{n}},\n",
    "(\\hat p + z_{\\alpha/2}*\\sqrt{\\frac{\\hat p(1-\\hat p)}{n}})=(\\frac{31}{88}-1.645*\\sqrt{\\frac {\\frac {31}{88}(1-\\frac{31}{88})}{88}},\\frac{31}{88}+1.645*\\sqrt{\\frac {\\frac {31}{88}(1-\\frac{31}{88})}{88}})=(0.27,0.36)$ \n",
    "\n",
    "There was $90%$ chance that we took a representative sample, and if we did, the $p$ that proportion of college students in the U.S. that use vape is somewhere between $0.27$ and $0.36$.\n",
    "\n",
    "b), c) $\\rightarrow$ see minitab C2 and C3 (ignore C4 and C5 since we sampled from binomial)\n",
    "\n",
    "b)CI from the distribution of $Y$ (from the inverse CDF) was $(24/88, 38/88) = (0.27,0.43)$\n",
    "\n",
    "c)CI from the Bootstrap resample was $(24/88,39/88) = (0.27,0.44)$\n"
   ]
  },
  {
   "cell_type": "code",
   "execution_count": 44,
   "metadata": {},
   "outputs": [
    {
     "data": {
      "text/plain": [
       "(0.2685081948060619, 0.36120205643627024)"
      ]
     },
     "execution_count": 44,
     "metadata": {},
     "output_type": "execute_result"
    }
   ],
   "source": [
    "#3\n",
    "31/88-1.645*sqrt((31/88*(88-31)/88)/88), 31/88+1.645*sqrt((31/88)*(88-31)/88)/88"
   ]
  },
  {
   "cell_type": "markdown",
   "metadata": {},
   "source": [
    "###### 4)\n",
    "a), b) $\\rightarrow$ see minitab\n",
    "\n",
    "CI from CLT was $(256.599,275.790)$ and CI from the bootstrap was $(256.583,275.667)$\n",
    "\n",
    "c) Interpretation and Comparison between CLT CI and the Bootstrap CI: \n",
    "\n",
    "These values were very close to each other. The conditions for CLT CI were met since we had more than 30 so the distribution of $\\bar X$ was Normal.\n",
    "\n",
    "d) Gamma did not fit the sample data since our sample data was not skewed right (In general Gamma is skewed right so it fits when the data is also skewed right).\n",
    "\n",
    "e) This CI (from Gamma) was $(256.673,275.862)$ (from the inverse CDF) that was also close to the CLT CI and the Bootstrap CI although Gamma did not fit our data very much.\n",
    "\n",
    "f) $90%$ bootstrap CI for $\\alpha$ and $\\theta$ was $(43.1730,90.7559)$ and $(2.97342,6.13211)$ respectively. \n",
    "\n",
    "g) $90%$ bootstrap CI for $\\sigma^2$ was $(797.14, 1628.37)$"
   ]
  },
  {
   "cell_type": "code",
   "execution_count": 30,
   "metadata": {},
   "outputs": [],
   "source": [
    "using Distributions, Plots, StatsPlots"
   ]
  },
  {
   "cell_type": "code",
   "execution_count": 46,
   "metadata": {},
   "outputs": [],
   "source": [
    "#4\n",
    "# df = DataFrame(CSV.File(\"conan songs .csv\"))\n"
   ]
  },
  {
   "cell_type": "code",
   "execution_count": 36,
   "metadata": {},
   "outputs": [],
   "source": [
    "# data = df[:,3];"
   ]
  },
  {
   "cell_type": "code",
   "execution_count": 47,
   "metadata": {},
   "outputs": [],
   "source": [
    "# histogram(data, bins=20, normalize=true)"
   ]
  },
  {
   "cell_type": "code",
   "execution_count": 37,
   "metadata": {},
   "outputs": [],
   "source": [
    "# resample = rand(data,10000*35);"
   ]
  },
  {
   "cell_type": "code",
   "execution_count": 48,
   "metadata": {},
   "outputs": [],
   "source": [
    "# resample = reshape(resample,(10000,35))\n",
    "# means = []\n",
    "# for i in 1:10000\n",
    "#     x = mean(resample[i,:])\n",
    "#     push!(means,x)\n",
    "# end\n",
    "# sorted = sort(means)\n",
    "\n",
    "# ##Bootstrap CI\n",
    "# sorted[Integer(10000*0.05)],sorted[Integer(10000*0.95)]"
   ]
  },
  {
   "cell_type": "code",
   "execution_count": 49,
   "metadata": {},
   "outputs": [],
   "source": [
    "# histogram(means)"
   ]
  },
  {
   "cell_type": "code",
   "execution_count": 50,
   "metadata": {},
   "outputs": [],
   "source": [
    "## CLT\n",
    "# mean(data)-1.645*std(data)/sqrt(length(data)), mean(data)+1.645*std(data)/sqrt(length(data))"
   ]
  },
  {
   "cell_type": "code",
   "execution_count": 51,
   "metadata": {},
   "outputs": [],
   "source": [
    "# #d \n",
    "# second_moment = mean(data .^2)\n",
    "# # check = 0\n",
    "# # for i in 1:length(data)\n",
    "# #     check += data[i]^2\n",
    "# # end\n",
    "# θ= (second_moment-mean(data)^2)/mean(data)\n",
    "# α= mean(data)/θ\n",
    "# θ,α\n",
    "# gdist = Gamma(α,θ)"
   ]
  },
  {
   "cell_type": "code",
   "execution_count": 52,
   "metadata": {},
   "outputs": [],
   "source": [
    "# xvec = 170:350\n",
    "# plot!(xvec,pdf.(gdist,xvec), linewidth=5, color=:orange)"
   ]
  },
  {
   "cell_type": "code",
   "execution_count": 53,
   "metadata": {},
   "outputs": [],
   "source": [
    "# #f\n",
    "# thetas = []\n",
    "# f_theta(x) =(mean(x .^2)-mean(x)^2)/mean(x)\n",
    "# println(f_theta(resample[1,:]))\n",
    "# alphas = []\n",
    "# f_alpha(x) = mean(x)/f_theta(x)\n",
    "\n",
    "# for i in 1:10000\n",
    "#     push!(thetas,f_theta(resample[i,:]))\n",
    "#     push!(alphas,f_alpha(resample[i,:]))\n",
    "# end"
   ]
  },
  {
   "cell_type": "code",
   "execution_count": 54,
   "metadata": {},
   "outputs": [],
   "source": [
    "# thetas = sort(thetas)\n",
    "# println(\"CI for θ: \", thetas[500], \", \",thetas[9500])\n",
    "# alphas = sort(alphas)\n",
    "# println(\"CI for α: \", alphas[500], \", \", alphas[9500])\n"
   ]
  },
  {
   "cell_type": "code",
   "execution_count": 55,
   "metadata": {},
   "outputs": [],
   "source": [
    "# #g\n",
    "\n",
    "# vars = []\n",
    "# for i in 1:10000\n",
    "#     push!(vars,var(resample[i,:]))\n",
    "# end\n",
    "# vars = sort(vars)\n",
    "# println(\"CI for σ²: \",vars[500], \", \", vars[9500])"
   ]
  }
 ],
 "metadata": {
  "kernelspec": {
   "display_name": "Julia 1.3.1",
   "language": "julia",
   "name": "julia-1.3"
  },
  "language_info": {
   "file_extension": ".jl",
   "mimetype": "application/julia",
   "name": "julia",
   "version": "1.3.1"
  }
 },
 "nbformat": 4,
 "nbformat_minor": 4
}
