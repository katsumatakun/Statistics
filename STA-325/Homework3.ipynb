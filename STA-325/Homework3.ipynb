{
 "cells": [
  {
   "cell_type": "code",
   "execution_count": 1,
   "metadata": {},
   "outputs": [],
   "source": [
    "using Distributions, Statistics, Plots, StatsPlots"
   ]
  },
  {
   "cell_type": "code",
   "execution_count": 3,
   "metadata": {},
   "outputs": [
    {
     "data": {
      "text/plain": [
       "Normal{Float64}(μ=0.0, σ=1.0)"
      ]
     },
     "execution_count": 3,
     "metadata": {},
     "output_type": "execute_result"
    }
   ],
   "source": [
    "Zdist = Normal()"
   ]
  },
  {
   "cell_type": "markdown",
   "metadata": {},
   "source": [
    "### 1)\n",
    "$H_O$: $\\mu = 49000$, $H_A: \\mu < 49000$\n",
    "\n",
    "$n = 67 >=30,\\, \\bar x = 47127,\\, s = 6783,\\, \\alpha = 0.025$\n",
    "\n",
    "$Z_1 = \\frac{\\bar x - \\mu}{s/\\sqrt{n}} = \\frac{47127-49000}{6783/\\sqrt{67}}\n",
    "= -2.26$\n",
    "\n",
    "$p = P(Z<Z_1) = P(Z<-2.26) = 0.012$\n",
    "\n",
    "Since $p<\\alpha(0.012<0.025)$, we can reject the null and conclude that the mean income of\n",
    "working Americans is less than $\\$49000$"
   ]
  },
  {
   "cell_type": "code",
   "execution_count": 116,
   "metadata": {},
   "outputs": [
    {
     "data": {
      "text/plain": [
       "-2.2602337817657525"
      ]
     },
     "execution_count": 116,
     "metadata": {},
     "output_type": "execute_result"
    }
   ],
   "source": [
    "z1 = (47127-49000)/(6783/sqrt(67))"
   ]
  },
  {
   "cell_type": "code",
   "execution_count": 117,
   "metadata": {},
   "outputs": [
    {
     "data": {
      "text/plain": [
       "0.0119033726348664"
      ]
     },
     "execution_count": 117,
     "metadata": {},
     "output_type": "execute_result"
    }
   ],
   "source": [
    "cdf(Zdist,z1)"
   ]
  },
  {
   "cell_type": "markdown",
   "metadata": {},
   "source": [
    "### 2)\n",
    "\n",
    "$H_O$: $\\mu = 180$, $H_A: \\mu \\neq 180$\n",
    "\n",
    "$n = 78 >=30,\\, \\bar x = 180.50,\\, s = 2.58,\\, \\alpha = 0.10$\n",
    "\n",
    "$Z_1 = \\frac{\\bar x - \\mu}{s/\\sqrt{n}} = \\frac{180.50-180}{2.58/\\sqrt{78}}\n",
    "= 1.71$\n",
    "\n",
    "$p = 2[1-P(Z<|Z_1|)] =2(1-P(Z<1.71)) = 0.0873$\n",
    "\n",
    "Since $p<\\alpha(0.0873<0.1)$, we can reject the null and conclude that the avarage weight of \n",
    "adult males is not $180$ pounds."
   ]
  },
  {
   "cell_type": "code",
   "execution_count": 118,
   "metadata": {},
   "outputs": [
    {
     "data": {
      "text/plain": [
       "1.711581563241831"
      ]
     },
     "execution_count": 118,
     "metadata": {},
     "output_type": "execute_result"
    }
   ],
   "source": [
    "z1 = (180.50-180)/(2.58/sqrt(78))"
   ]
  },
  {
   "cell_type": "code",
   "execution_count": 119,
   "metadata": {},
   "outputs": [
    {
     "data": {
      "text/plain": [
       "0.08726587304806377"
      ]
     },
     "execution_count": 119,
     "metadata": {},
     "output_type": "execute_result"
    }
   ],
   "source": [
    "p = 2*(1-cdf(Zdist,1.71))"
   ]
  },
  {
   "cell_type": "markdown",
   "metadata": {},
   "source": [
    "### 3)\n",
    "\n",
    "$H_O$: $\\mu = 180$, $H_A: \\mu \\neq 180$\n",
    "\n",
    "$n = 16 <30,\\, df = 15, \\, \\bar x = 180.50,\\, s = 2.58,\\, \\alpha = 0.10$\n",
    "\n",
    "$T_1 = \\frac{\\bar x - \\mu}{s/\\sqrt{n}} = \\frac{180.50-180}{2.58/\\sqrt{78}}\n",
    "= 1.71$\n",
    "\n",
    "$p = 2[1-P(T<|T_1|)] =2(1-P(T<1.71))$\n",
    "\n",
    "From the table, $t_{0.10}(15)= 1.341, \\, t_{0.05}(15)=1.753$.\n",
    "Therefore, $2*0.05<p<2*0.10$\n",
    "\n",
    "Since $p>\\alpha (p>0.1)$, we cannot reject the null or conclude that the avarage weight of \n",
    "adult males is not $180$ pounds. We need to assume that the distribution of adult males\n",
    "is close to Normal. Since we are measuring weights, it is reasonable to make the assumption(bell shaped). "
   ]
  },
  {
   "cell_type": "code",
   "execution_count": 120,
   "metadata": {},
   "outputs": [
    {
     "data": {
      "text/plain": [
       "0.10786402573122733"
      ]
     },
     "execution_count": 120,
     "metadata": {},
     "output_type": "execute_result"
    }
   ],
   "source": [
    "##Test\n",
    "t_15 = TDist(15)\n",
    "1-cdf(t_15,1.341)\n",
    "(1-cdf(t_15,1.71))*2 # This shows the p value is really > 0.1"
   ]
  },
  {
   "cell_type": "markdown",
   "metadata": {},
   "source": [
    "### 4)\n",
    "\n",
    "\n",
    "$H_O$: $p = 0.273$, $H_A: p \\neq 0.273$\n",
    "\n",
    "$n = 490,\\, \\hat p = \\frac{152}{490}=0.31,\\, \\alpha = 0.05, success >=15, \\, failure>=15$\n",
    "\n",
    "$Z_1 = \\frac{\\hat p - p}{\\sqrt{p(1-p)/n}} = \\frac{0.31-0.273}{\\sqrt{0.273(1-0.273)/490}}\n",
    "= 1.85$\n",
    "\n",
    "$p = 2[1-P(Z<|Z_1|)] =2(1-P(Z<1.85)) = 0.064$\n",
    "\n",
    "\n",
    "Since $p>\\alpha (0.064>0.05)$, we cannot reject the null or conclude that not 27.3% of all adults exercise regularly."
   ]
  },
  {
   "cell_type": "code",
   "execution_count": 121,
   "metadata": {},
   "outputs": [
    {
     "data": {
      "text/plain": [
       "1.848587873062195"
      ]
     },
     "execution_count": 121,
     "metadata": {},
     "output_type": "execute_result"
    }
   ],
   "source": [
    "z1 = (152/490-0.273)/sqrt(0.273*(1-0.273)/490)"
   ]
  },
  {
   "cell_type": "code",
   "execution_count": 122,
   "metadata": {},
   "outputs": [
    {
     "data": {
      "text/plain": [
       "0.06431354959122748"
      ]
     },
     "execution_count": 122,
     "metadata": {},
     "output_type": "execute_result"
    }
   ],
   "source": [
    "p = 2*(1-cdf(Zdist,1.85))"
   ]
  },
  {
   "cell_type": "markdown",
   "metadata": {},
   "source": [
    "### 5)\n",
    "\n",
    "\n",
    "$H_O$: $p = 0.273$, $H_A: p \\neq 0.273$\n",
    "\n",
    "$N = 1000, \\, n = 490,\\, \\hat p = \\frac{152}{490}=0.31,\\, \\alpha = 0.05, \\, success>=15,\\, failure>=15$\n",
    "\n",
    "$Z_1 = \\frac{\\hat p - p}{\\sqrt{p(1-p)(N-n)/n(N-1)}} = \\frac{0.31-0.273}{\\sqrt{0.273(1-0.273)(510)/490(999)}}\n",
    "= 2.59$\n",
    "\n",
    "$p = 2[1-P(Z<|Z_1|)] =2(1-P(Z<2.59)) = 0.01$\n",
    "\n",
    "\n",
    "Since $p<\\alpha (0.01<0.05)$, we can reject the null and conclude that not 27.3% of all adults exercise regularly."
   ]
  },
  {
   "cell_type": "code",
   "execution_count": 123,
   "metadata": {},
   "outputs": [
    {
     "data": {
      "text/plain": [
       "2.5872461881040953"
      ]
     },
     "execution_count": 123,
     "metadata": {},
     "output_type": "execute_result"
    }
   ],
   "source": [
    "z1 = (152/490-0.273)/sqrt((0.273*(1-0.273)*510)/(490*999))"
   ]
  },
  {
   "cell_type": "code",
   "execution_count": 124,
   "metadata": {},
   "outputs": [
    {
     "data": {
      "text/plain": [
       "0.009597593194252463"
      ]
     },
     "execution_count": 124,
     "metadata": {},
     "output_type": "execute_result"
    }
   ],
   "source": [
    "2*(1-cdf(Zdist,2.59))"
   ]
  },
  {
   "cell_type": "markdown",
   "metadata": {},
   "source": [
    "### 6)\n",
    "\n",
    "$H_0: p=0.5,\\, H_A: p<0.5$\n",
    "\n",
    "In my experiment, I spinned a penny 10 times and got 4 heads and 6 tails.\n",
    "\n",
    "So $p=0.5, \\, success=4, \\, n=10$ \n",
    "\n",
    "I use $Y \\sim Bin(p=0.5, n=10)$. So $p = P(Y<=4)=0.38$\n",
    "\n",
    "Since $p>\\alpha(0.38>0.05)$, we cannot reject the null or conclude that the probability the heads\n",
    "facing up is less than 50%.\n"
   ]
  },
  {
   "cell_type": "code",
   "execution_count": 125,
   "metadata": {},
   "outputs": [
    {
     "data": {
      "text/plain": [
       "0.3769531250000001"
      ]
     },
     "execution_count": 125,
     "metadata": {},
     "output_type": "execute_result"
    }
   ],
   "source": [
    "b = Binomial(10, 0.5)\n",
    "cdf(b,4)"
   ]
  },
  {
   "cell_type": "markdown",
   "metadata": {},
   "source": [
    "### 7 \n",
    "###### a)\n",
    "\n",
    "$H_0: p=0.8,\\, H_A: p<0.8$\n",
    "\n",
    "$r=10, p=0.8, attempts=14, \\alpha=0.1$\n",
    "\n",
    "If the null is true, $Y(attemps) \\sim NegBin(p=0.8, r=10)$\n",
    "\n",
    "Larger number of attempts are better(close to $H_A$).\n",
    "\n",
    "Therefore, $p=P(Y>=14)=1-P(Y<=13)=0.25$\n",
    "\n",
    "Since $p>\\alpha(0.25>0.1)$, we cannot reject the null or conclude that the \n",
    "probability that the Slugger hit homeruns is less than 80%.\n",
    "\n",
    "Note that in Julia, NegativeBinomial meaures the probablity of the number of failure\n",
    "before $r$ success so I calculated the probability of failing to hit homeruns 4 times or \n",
    "more before he hits homeruns 10 times, which is equal to 1 minus the probablity that he\n",
    "fails 3 times or less before 10 homeruns. \n",
    "\n",
    "###### b)\n",
    "\n",
    "We can see below that the probability of 5 or more failures before 10 success (equivalently, the probability of 15 or more attempts) is still valid, but\n",
    "6 or more failures before 10 success (16 or more attempts) is not. So he could take up to 15 attempts so that we\n",
    "could not conclude he hits less than 80% homeruns."
   ]
  },
  {
   "cell_type": "code",
   "execution_count": 126,
   "metadata": {},
   "outputs": [
    {
     "data": {
      "text/plain": [
       "0.25267569049600014"
      ]
     },
     "execution_count": 126,
     "metadata": {},
     "output_type": "execute_result"
    }
   ],
   "source": [
    "ne = NegativeBinomial(10,0.8)\n",
    "## 4 or more failure == 14 or more attempts\n",
    "1-cdf(ne,3) # = 1 - P(Y<=13) = P(Y>=14)\n",
    "# 1-(pdf(ne,0)+pdf(ne,1)+pdf(ne,2)+pdf(ne,3))"
   ]
  },
  {
   "cell_type": "code",
   "execution_count": 127,
   "metadata": {},
   "outputs": [
    {
     "data": {
      "text/plain": [
       "0.1298396258304002"
      ]
     },
     "execution_count": 127,
     "metadata": {},
     "output_type": "execute_result"
    }
   ],
   "source": [
    "## 5 or more failure == 15 or more attempts\n",
    "1-cdf(ne,4) ##-> 1-P(Y<=14) = P(Y>=15) still > 0.1"
   ]
  },
  {
   "cell_type": "code",
   "execution_count": 128,
   "metadata": {},
   "outputs": [
    {
     "data": {
      "text/plain": [
       "0.061051429617663966"
      ]
     },
     "execution_count": 128,
     "metadata": {},
     "output_type": "execute_result"
    }
   ],
   "source": [
    "## 6 or more failure == 16 or more attempts\n",
    "1-cdf(ne,5) ##-> P(Y>=16) < 0.1 \n",
    "##This means it is unlikely enough that it takes him 16 or more\n",
    "##attempts to hit homeruns 10 times if the probability is really 80% -> reject the null"
   ]
  },
  {
   "cell_type": "markdown",
   "metadata": {},
   "source": [
    "### 8)\n",
    "$H_O: \\mu=23, H_A: \\mu > 23$\n",
    "\n",
    "First, we use MME to estimate $\\alpha$ and $\\theta$ for the null.\n",
    "\n",
    "From the assumption, $\\mu = 23 = \\hat \\alpha \\hat \\theta$ and $\\sigma^2=\\sigma^2 \\because$ just shifting the distribution.\n",
    "\n",
    "Let $\\frac{n-1}{n}s^2 = V(X)=\\frac{9}{10}\n",
    "116.23=104.6=\\hat\\alpha\\hat\\theta^2$.\n",
    "\n",
    "From two equations, $104.6=23\\hat\\theta \\Leftrightarrow \\hat\\theta=4.55$, and also, $\\hat\\alpha=23/\\hat\\theta=5.06$\n",
    "\n",
    "Therefore, $X \\sim Gamma(\\alpha=5.06, \\theta=4.55)$ and $\\bar X \\sim Gamma(\\alpha=50.6,\\theta=0.455)$\n",
    "\n",
    "We observed $\\bar x = 27.8789 > H_O$. So $p= P(\\bar X > 27.8789) = 0.073$\n",
    "\n",
    "Since $p<\\alpha(0.073<0.1)$, we can reject the null and conclude that the mean inome\n",
    "of working Americans is greater than 48K dollars."
   ]
  },
  {
   "cell_type": "code",
   "execution_count": 129,
   "metadata": {},
   "outputs": [
    {
     "data": {
      "text/plain": [
       "10.781048294216209"
      ]
     },
     "execution_count": 129,
     "metadata": {},
     "output_type": "execute_result"
    }
   ],
   "source": [
    "a = [51.189, 70.689, 39.186, 47.313, 37.086, 55.662,\n",
    "61.211, 65.546, 48.372, 52.435]\n",
    "std(a.-20)\n"
   ]
  },
  {
   "cell_type": "code",
   "execution_count": 130,
   "metadata": {},
   "outputs": [
    {
     "data": {
      "text/plain": [
       "(4.548128908695653, 5.057024649417009)"
      ]
     },
     "execution_count": 130,
     "metadata": {},
     "output_type": "execute_result"
    }
   ],
   "source": [
    "v = 10.7810^2*9/10\n",
    "x = 23\n",
    "theta = v/x\n",
    "alpha=x/theta\n",
    "theta, alpha"
   ]
  },
  {
   "cell_type": "code",
   "execution_count": 131,
   "metadata": {},
   "outputs": [
    {
     "data": {
      "text/plain": [
       "0.07321154147569786"
      ]
     },
     "execution_count": 131,
     "metadata": {},
     "output_type": "execute_result"
    }
   ],
   "source": [
    "x_bar = Gamma(50.6,0.455)\n",
    "(1-cdf(x_bar,27.8789))"
   ]
  },
  {
   "cell_type": "markdown",
   "metadata": {},
   "source": [
    "### 9)\n",
    "\n",
    "$H_O: \\mu=48, H_A: \\mu > 48$\n",
    "\n",
    "$n=10<30,\\, df=9 ,\\, \\bar x = 52.8789, \\,s=10.7810$\n",
    "\n",
    "$T_1 = \\frac{\\bar x - \\mu}{s/\\sqrt{n}} = \\frac{52.8789-48}{10.7810/\\sqrt{10}}\n",
    "= 1.43$\n",
    "\n",
    "From the t-table, $t_{0.10}(9) < 1.43 < t_{0.05}(9)$ so $0.05<p<0.1$\n",
    "\n",
    "Since $p<\\alpha(=0.10)$, we can still reject the null and conclude that the mean inome\n",
    "of working Americans is greater than 48K dollars."
   ]
  },
  {
   "cell_type": "code",
   "execution_count": 132,
   "metadata": {},
   "outputs": [
    {
     "data": {
      "text/plain": [
       "1.431076567683472"
      ]
     },
     "execution_count": 132,
     "metadata": {},
     "output_type": "execute_result"
    }
   ],
   "source": [
    "t = (52.8789-48)/(10.7810/sqrt(10))"
   ]
  },
  {
   "cell_type": "code",
   "execution_count": 133,
   "metadata": {},
   "outputs": [
    {
     "data": {
      "text/plain": [
       "0.09325027947920717"
      ]
     },
     "execution_count": 133,
     "metadata": {},
     "output_type": "execute_result"
    }
   ],
   "source": [
    "td = TDist(9)\n",
    "1-cdf(td,1.43)"
   ]
  },
  {
   "cell_type": "code",
   "execution_count": null,
   "metadata": {},
   "outputs": [],
   "source": []
  }
 ],
 "metadata": {
  "kernelspec": {
   "display_name": "Julia 1.3.1",
   "language": "julia",
   "name": "julia-1.3"
  },
  "language_info": {
   "file_extension": ".jl",
   "mimetype": "application/julia",
   "name": "julia",
   "version": "1.3.1"
  }
 },
 "nbformat": 4,
 "nbformat_minor": 4
}
