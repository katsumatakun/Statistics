{
 "cells": [
  {
   "cell_type": "code",
   "execution_count": 1,
   "metadata": {},
   "outputs": [],
   "source": [
    "using Distributions, Statistics, Plots, StatsPlots"
   ]
  },
  {
   "cell_type": "markdown",
   "metadata": {},
   "source": [
    "### 1 a\n",
    "\n",
    "$H_O: $ The die is unbiased so $P(1|H_O)=P(2|H_O)=P(3|H_O)=P(4|H_O)=P(5|H_O)=P(6|H_O)=1/6$\n",
    "\n",
    "$H_A: $ The die is biased so $P(1|H_A)=P(6|H_A)=1/4, P(2|H_A)=P(3|H_A)=P(4|H_A)=P(5|H_A)=1/8$\n",
    "\n",
    "Initial guess = $P(H_O)=P(H_A)=0.5$\n"
   ]
  },
  {
   "cell_type": "code",
   "execution_count": 8,
   "metadata": {},
   "outputs": [],
   "source": [
    "dice = [3\n",
    "2\n",
    "1\n",
    "6\n",
    "1\n",
    "2\n",
    "6\n",
    "6\n",
    "1\n",
    "6\n",
    "6\n",
    "1\n",
    "6\n",
    "1\n",
    "5\n",
    "6\n",
    "6\n",
    "1\n",
    "1\n",
    "3\n",
    "5\n",
    "6\n",
    "1\n",
    "6\n",
    "1\n",
    "4\n",
    "1];"
   ]
  },
  {
   "cell_type": "code",
   "execution_count": 9,
   "metadata": {},
   "outputs": [
    {
     "data": {
      "text/plain": [
       "p0 (generic function with 1 method)"
      ]
     },
     "execution_count": 9,
     "metadata": {},
     "output_type": "execute_result"
    }
   ],
   "source": [
    "p0_likelihood(x) = 1/6\n",
    "\n",
    "function p1_likelihood(x) \n",
    "    if x == 1 || x ==6\n",
    "        return 1/4\n",
    "    else\n",
    "        return 1/8\n",
    "    end\n",
    "end\n",
    "\n",
    "function p2_likelihood(x)\n",
    "    if x == 1 || x ==6\n",
    "        return 1/10\n",
    "    else\n",
    "        return 1/5\n",
    "    end\n",
    "end\n",
    "\n",
    "function p0(x, prior)\n",
    "    ho=prior[1]*p0_likelihood(x)/(prior[1]*p0_likelihood(x)+(prior[2])*p1_likelihood(x))\n",
    "    ha=prior[2]*p1_likelihood(x)/(prior[1]*p0_likelihood(x)+(prior[2])*p1_likelihood(x))\n",
    "    return [ho,ha]\n",
    "end"
   ]
  },
  {
   "cell_type": "code",
   "execution_count": 10,
   "metadata": {},
   "outputs": [
    {
     "name": "stdout",
     "output_type": "stream",
     "text": [
      "roll1 =3 P(H_O): 0.5714285714285715, P(H_A): 0.4285714285714286, sum: 1.0\n",
      "roll2 =2 P(H_O): 0.6399999999999999, P(H_A): 0.36, sum: 0.9999999999999999\n",
      "roll3 =1 P(H_O): 0.5423728813559321, P(H_A): 0.4576271186440678, sum: 0.9999999999999999\n",
      "roll4 =6 P(H_O): 0.4413793103448275, P(H_A): 0.5586206896551725, sum: 1.0\n",
      "roll5 =1 P(H_O): 0.3450134770889487, P(H_A): 0.6549865229110513, sum: 1.0\n",
      "roll6 =2 P(H_O): 0.4125705076551167, P(H_A): 0.5874294923448833, sum: 1.0\n",
      "roll7 =6 P(H_O): 0.31890376829648076, P(H_A): 0.6810962317035193, sum: 1.0\n",
      "roll8 =6 P(H_O): 0.23789057962597274, P(H_A): 0.7621094203740273, sum: 1.0\n",
      "roll9 =1 P(H_O): 0.172252828125657, P(H_A): 0.827747171874343, sum: 1.0\n",
      "roll10 =6 P(H_O): 0.12183043083832774, P(H_A): 0.8781695691616722, sum: 1.0\n",
      "roll11 =6 P(H_O): 0.08465827180141679, P(H_A): 0.9153417281985832, sum: 1.0\n",
      "Decision: H_A\n",
      "11th roll\n"
     ]
    }
   ],
   "source": [
    "prior = [0.5, 0.5]\n",
    "\n",
    "for i =1:length(dice)\n",
    "    print(\"roll\",i,\" =\",dice[i])\n",
    "    prior = p0(dice[i],prior)\n",
    "    println(\" P(H_O): \", prior[1], \", P(H_A): \", prior[2], \", sum: \",sum(prior))\n",
    "    if prior[2] > 0.9\n",
    "        println(\"Decision: H_A\")\n",
    "        println(i, \"th roll\")\n",
    "        break\n",
    "    elseif prior[1] > 0.9\n",
    "        println(\"Decision: H_O\")\n",
    "        println(i, \"th roll\")\n",
    "        break\n",
    "    end\n",
    "end"
   ]
  },
  {
   "cell_type": "markdown",
   "metadata": {},
   "source": [
    "Therefore, we conclude the die is biased."
   ]
  },
  {
   "cell_type": "markdown",
   "metadata": {},
   "source": [
    "### 1 b\n",
    "\n",
    "$H_O: $ The die is unbiased so $P(1|H_O)=P(2|H_O)=P(3|H_O)=P(4|H_O)=P(5|H_O)=P(6|H_O)=1/6$\n",
    "\n",
    "$H_A: $ The die is biased (1st case) so $P(1|H_A)=P(6|H_A)=1/4, P(2|H_A)=P(3|H_A)=P(4|H_A)=P(5|H_A)=1/8$\n",
    "\n",
    "$H_B: $ The die is biased (2nd case) so $P(1|H_B)=P(6|H_B)=1/10, P(2|H_B)=P(3|H_B)=P(4|H_B)=P(5|H_B)=1/5$\n",
    "\n",
    "Initial guess: $P(H_O)= 0.5, P(H_A)=P(B_A)=0.25$\n"
   ]
  },
  {
   "cell_type": "code",
   "execution_count": 12,
   "metadata": {},
   "outputs": [
    {
     "name": "stdout",
     "output_type": "stream",
     "text": [
      "roll1 =3 P(H_O): 0.5063291139240506, P(H_A): 0.189873417721519, P(H_B): 0.3037974683544304 sum: 1.0\n",
      "roll2 =2 P(H_O): 0.49968769519050593, P(H_A): 0.14053716427232982, P(H_B): 0.35977514053716436 sum: 1.0\n",
      "roll3 =1 P(H_O): 0.5394106938170049, P(H_A): 0.22756388645404899, P(H_B): 0.2330254197289462 sum: 1.0\n",
      "roll4 =6 P(H_O): 0.5285377342908675, P(H_A): 0.3344652849809397, P(H_B): 0.13699698072819294 sum: 1.0000000000000002\n",
      "roll5 =1 P(H_O): 0.47511834901124894, P(H_A): 0.4509912453505216, P(H_B): 0.07389040563822949 sum: 1.0\n",
      "roll6 =2 P(H_O): 0.5267210701497326, P(H_A): 0.3749801368546437, P(H_B): 0.09829879299562377 sum: 1.0\n",
      "roll7 =6 P(H_O): 0.45874810983951636, P(H_A): 0.4898838458100696, P(H_B): 0.051368044350413984 sum: 0.9999999999999999\n",
      "roll8 =6 P(H_O): 0.37467338588151133, P(H_A): 0.6001543175704582, P(H_B): 0.025172296548030448 sum: 1.0\n",
      "roll9 =1 P(H_O): 0.2904426299116453, P(H_A): 0.6978493999695944, P(H_B): 0.011707970118760286 sum: 0.9999999999999999\n",
      "roll10 =6 P(H_O): 0.21606432127889386, P(H_A): 0.7787098454099981, P(H_B): 0.005225833311108063 sum: 1.0\n",
      "roll11 =6 P(H_O): 0.1557484584648494, P(H_A): 0.8419913382468472, P(H_B): 0.0022602032883034286 sum: 1.0\n",
      "roll12 =1 P(H_O): 0.10967493913913372, P(H_A): 0.8893701069799864, P(H_B): 0.0009549538808797666 sum: 0.9999999999999999\n",
      "roll13 =6 P(H_O): 0.07593623614744274, P(H_A): 0.9236670518745378, P(H_B): 0.0003967119780193879 sum: 0.9999999999999999\n",
      "Decision: H_A\n",
      "13th roll\n"
     ]
    }
   ],
   "source": [
    "function sprt(x, prior)\n",
    "    ho = prior[1]*p0_likelihood(x)/(prior[1]*p0_likelihood(x)+prior[2]*p1_likelihood(x)+prior[3]*p2_likelihood(x))\n",
    "    ha = prior[2]*p1_likelihood(x)/(prior[1]*p0_likelihood(x)+prior[2]*p1_likelihood(x)+prior[3]*p2_likelihood(x))\n",
    "    hb = prior[3]*p2_likelihood(x)/(prior[1]*p0_likelihood(x)+prior[2]*p1_likelihood(x)+prior[3]*p2_likelihood(x))\n",
    "    return [ho,ha,hb]\n",
    "end\n",
    "\n",
    "prior = [0.5,0.25,0.25]\n",
    "\n",
    "for i =1:length(dice)\n",
    "    print(\"roll\",i,\" =\",dice[i])\n",
    "    prior = sprt(dice[i],prior)\n",
    "    println(\" P(H_O): \", prior[1], \", P(H_A): \", prior[2], \", P(H_B): \",prior[3], \" sum: \",sum(prior))\n",
    "    if prior[1] > 0.9\n",
    "        println(\"Decision: H_O\")\n",
    "        println(i, \"th roll\")\n",
    "        break\n",
    "    elseif prior[2] > 0.9\n",
    "        println(\"Decision: H_A\")\n",
    "        println(i, \"th roll\")\n",
    "        break\n",
    "    elseif prior[3] > 0.9\n",
    "        println(\"Decision: H_\")\n",
    "        println(i, \"th roll\")\n",
    "        break\n",
    "    end\n",
    "end"
   ]
  },
  {
   "cell_type": "markdown",
   "metadata": {},
   "source": [
    "Therefore, we conclude the die is biased (case1)"
   ]
  },
  {
   "cell_type": "markdown",
   "metadata": {},
   "source": [
    "### 2\n",
    "\n",
    "$H_O: $ The data is from morning so $P(X=x|H_O)=f(x)$ where $X \\sim Poisson(\\lambda=5)$\n",
    "\n",
    "$H_A: $ The data is from afternoon so $P(X=x|H_A)=f(x)$ where $X \\sim Poisson(\\lambda=8)$\n",
    "\n",
    "Initial guess: $P(H_O)=0.75, P(H_A)=0.25$"
   ]
  },
  {
   "cell_type": "code",
   "execution_count": 13,
   "metadata": {},
   "outputs": [],
   "source": [
    "arrivals = [5\n",
    "10\n",
    "6\n",
    "8\n",
    "9\n",
    "14\n",
    "6\n",
    "5\n",
    "7\n",
    "13\n",
    "5\n",
    "9\n",
    "15];"
   ]
  },
  {
   "cell_type": "code",
   "execution_count": 14,
   "metadata": {},
   "outputs": [
    {
     "data": {
      "text/plain": [
       "pm_pa (generic function with 1 method)"
      ]
     },
     "execution_count": 14,
     "metadata": {},
     "output_type": "execute_result"
    }
   ],
   "source": [
    "morning = Poisson(5)\n",
    "afternoon = Poisson(8)\n",
    "m_likelihood(x) = pdf(morning,x)\n",
    "a_likelihood(x) = pdf(afternoon,x)\n",
    "function pm_pa(x, prior)\n",
    "    pm = prior[1]*m_likelihood(x)/(prior[1]*m_likelihood(x)+prior[2]*a_likelihood(x))\n",
    "    pa = prior[2]*a_likelihood(x)/(prior[1]*m_likelihood(x)+prior[2]*a_likelihood(x))\n",
    "    return [pm,pa]\n",
    "end"
   ]
  },
  {
   "cell_type": "code",
   "execution_count": 15,
   "metadata": {},
   "outputs": [
    {
     "name": "stdout",
     "output_type": "stream",
     "text": [
      "After 1 P(H_O): 0.8517753944922706, P(H_A): 0.14822460550772934, sum:0.9999999999999999\n",
      "After 2 P(H_O): 0.5121370777901946, P(H_A): 0.48786292220980537, sum:1.0\n",
      "After 3 P(H_O): 0.5568866407655715, P(H_A): 0.4431133592344286, sum:1.0\n",
      "After 4 P(H_O): 0.37016874630662355, P(H_A): 0.6298312536933766, sum:1.0\n",
      "After 5 P(H_O): 0.14659936928337586, P(H_A): 0.8534006307166242, sum:1.0\n",
      "After 6 P(H_O): 0.004765497591977406, P(H_A): 0.9952345024080226, sum:1.0\n",
      "Decision: H_A\n",
      "6th roll\n"
     ]
    }
   ],
   "source": [
    "prior = [0.75, 0.25]\n",
    "for i=1:length(arrivals)\n",
    "    prior = pm_pa(arrivals[i],prior)\n",
    "    println(\"After \",i, \" P(H_O): \", prior[1], \", P(H_A): \", prior[2], \", sum:\", sum(prior))\n",
    "    if prior[1] > 0.95\n",
    "        println(\"Decision: H_O\")\n",
    "        println(i, \"th roll\")\n",
    "        break\n",
    "    elseif prior[2] > 0.95\n",
    "        println(\"Decision: H_A\")\n",
    "        println(i, \"th roll\")\n",
    "        break\n",
    "    end\n",
    "end\n"
   ]
  },
  {
   "cell_type": "markdown",
   "metadata": {},
   "source": [
    "Therefore, we conlude that the data was from afternoon."
   ]
  }
 ],
 "metadata": {
  "kernelspec": {
   "display_name": "Julia 1.3.1",
   "language": "julia",
   "name": "julia-1.3"
  },
  "language_info": {
   "file_extension": ".jl",
   "mimetype": "application/julia",
   "name": "julia",
   "version": "1.3.1"
  }
 },
 "nbformat": 4,
 "nbformat_minor": 4
}
