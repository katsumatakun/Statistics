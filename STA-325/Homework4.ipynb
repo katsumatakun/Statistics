{
 "cells": [
  {
   "cell_type": "code",
   "execution_count": 88,
   "metadata": {},
   "outputs": [],
   "source": [
    "using Distributions, Statistics, StatsPlots, Plots"
   ]
  },
  {
   "cell_type": "code",
   "execution_count": 89,
   "metadata": {},
   "outputs": [
    {
     "data": {
      "text/plain": [
       "Normal{Float64}(μ=0.0, σ=1.0)"
      ]
     },
     "execution_count": 89,
     "metadata": {},
     "output_type": "execute_result"
    }
   ],
   "source": [
    "Z = Normal()"
   ]
  },
  {
   "cell_type": "markdown",
   "metadata": {},
   "source": [
    "### 1\n",
    "\n",
    "$H_O: \\mu_1 - \\mu_2 = 1 \\,$ $H_A: \\mu_1 - \\mu_2 \\neq 1$ where $\\mu_1$ is the mean vacayion length of Europeans and $\\mu_2$ is the mean vacation length of Americans."
   ]
  },
  {
   "cell_type": "markdown",
   "metadata": {},
   "source": [
    "### a\n",
    "\n",
    "$\\alpha = 0.05 \\,, n_1=93 \\,, n_2=40 \\,, \\rightarrow df \\geq 30 \\rightarrow Z\\,, \\sigma_1^2 \\neq \\sigma_2^2 \\,, \\bar x_1 = 21.98 \\,, \\bar x_2 = 19.46 \\,, s_1 = 5.58 \\,, s_2=1.14$ \n",
    "\n",
    "$Z_1 = \\frac{(\\bar x_1 - \\bar x_2)-K}{\\sqrt{\\frac{s_1^2}{n_1}+\\frac{s_2^2}{n_2}}} \n",
    "= \\frac{21.98-19.46-1}{\\sqrt{\\frac{(5.58)^{2}}{93}+\\frac{(1.14)^2}{40}}} = 2.51$\n",
    "\n",
    "$p = 2[1-P(Z<|Z_1|)] = 2[1-P(Z<2.51)] = 0.012$\n",
    "\n",
    "Since $p<\\alpha \\,(0.012<0.05)$, we can conclude $H_A$ that the mean vacation length of European is not different from the mean vacation length of American by one day. "
   ]
  },
  {
   "cell_type": "code",
   "execution_count": 90,
   "metadata": {},
   "outputs": [
    {
     "data": {
      "text/plain": [
       "2.5080664332894886"
      ]
     },
     "execution_count": 90,
     "metadata": {},
     "output_type": "execute_result"
    }
   ],
   "source": [
    "Z_1 = (21.98-19.46-1)/(sqrt((5.58^2/93)+(1.14^2/40)))"
   ]
  },
  {
   "cell_type": "code",
   "execution_count": 91,
   "metadata": {},
   "outputs": [
    {
     "data": {
      "text/plain": [
       "0.012073116160825403"
      ]
     },
     "execution_count": 91,
     "metadata": {},
     "output_type": "execute_result"
    }
   ],
   "source": [
    "2*(1-cdf(Z,2.51))"
   ]
  },
  {
   "cell_type": "markdown",
   "metadata": {},
   "source": [
    "### b\n",
    "\n",
    "$\\alpha=0.05 \\,, n_1=93 \\,, n_2=40 \\,, \\sigma_1^2=\\sigma_2^2 \\,, df = n_1+n_2-2=131 \\geq 30 \\rightarrow Z\\,, \\bar x_1 = 21.98 \\,, \\bar x_2 = 19.46 \\,, s_1 = 5.58 \\,, s_2=1.14 \\,, s_p^2=[(n_1-1)s_1^2+(n_2-1)s_2^2]/[n_1+n_2-2] = 92*5.58^2+39*1.14^2/(131) = 22.25$ \n",
    "\n",
    "$Z_1 = \\frac{(\\bar x_1 - \\bar x_2)-K}{\\sqrt{s_p^2 (\\frac{1}{n_1}+\\frac{1}{n_2}})} = 1.70$\n",
    "\n",
    "$p = 2[1-P(Z<|Z_1|)] = 2[1-P(Z<1.70)] = 0.088$\n",
    "\n",
    "Since $p>\\alpha \\,(0.088 > 0.05)$, we cannot conclude $H_A$ that the mean vacation length of European is not different from the mean vacation length of American by one day."
   ]
  },
  {
   "cell_type": "code",
   "execution_count": 92,
   "metadata": {},
   "outputs": [
    {
     "data": {
      "text/plain": [
       "22.25368854961832"
      ]
     },
     "execution_count": 92,
     "metadata": {},
     "output_type": "execute_result"
    }
   ],
   "source": [
    "s_p_2 = (92*5.58^2+39*1.14^2)/131"
   ]
  },
  {
   "cell_type": "code",
   "execution_count": 93,
   "metadata": {},
   "outputs": [
    {
     "data": {
      "text/plain": [
       "1.7040731539187133"
      ]
     },
     "execution_count": 93,
     "metadata": {},
     "output_type": "execute_result"
    }
   ],
   "source": [
    "Z_1 = (21.98-19.46-1)/(sqrt(s_p_2*(1/93+1/40)))"
   ]
  },
  {
   "cell_type": "code",
   "execution_count": 94,
   "metadata": {},
   "outputs": [
    {
     "data": {
      "text/plain": [
       "0.08836742133593178"
      ]
     },
     "execution_count": 94,
     "metadata": {},
     "output_type": "execute_result"
    }
   ],
   "source": [
    "2*(1-cdf(Z,Z_1))"
   ]
  },
  {
   "cell_type": "markdown",
   "metadata": {},
   "source": [
    "### c \n",
    "\n",
    "$\\alpha=0.05 \\,, n_1=15 \\,, n_2=18,\\, \\sigma_1^2 \\neq \\sigma_2^2 \\,, \\bar x_1 = 21.98 \\,, \\bar x_2 =19.46,\\, s_1=5.58 \\,, s_2=1.14$\n",
    "\n",
    "$df = [(s_1^2/n_1)+(s_2^2/n_2)]^2/[(s_1^2/n_1)^2/(n_1-1)+(s_2^2/n_2)^2/(n_2-1)] = 15 \\rightarrow T$\n",
    "\n",
    "$T_1 = ((\\bar x1-\\bar x_2)-K)/\\sqrt{s_1^2/n_1+s_2^2/n_2} = 1.04$\n",
    "\n",
    "From t-table,$t_{0.25}(15)=0.691, t_{0.1}(15)=1.341$ so $2*0.1<p<2*0.25$. Since $p>\\alpha$, we cannot conclude $H_A$ that the mean vacation length of European is not different from the mean vacation length of American by one day."
   ]
  },
  {
   "cell_type": "code",
   "execution_count": 95,
   "metadata": {},
   "outputs": [
    {
     "data": {
      "text/plain": [
       "14.97592497984437"
      ]
     },
     "execution_count": 95,
     "metadata": {},
     "output_type": "execute_result"
    }
   ],
   "source": [
    "function df(s1, s2, n1, n2)\n",
    "    num = (s1^2/n1+s2^2/n2)^2\n",
    "    denom = (s1^2/n1)^2/(n1-1)+(s2^2/n2)^2/(n2-1)\n",
    "    \n",
    "    return num/denom\n",
    "end\n",
    "\n",
    "df(5.58,1.14,15,18)"
   ]
  },
  {
   "cell_type": "code",
   "execution_count": 96,
   "metadata": {},
   "outputs": [
    {
     "data": {
      "text/plain": [
       "14.97592497984437"
      ]
     },
     "execution_count": 96,
     "metadata": {},
     "output_type": "execute_result"
    }
   ],
   "source": [
    "(5.58^2/15+1.14^2/18)^2/((5.58^2/15)^2/(15-1)+(1.14^2/18)^2/(18-1))"
   ]
  },
  {
   "cell_type": "code",
   "execution_count": 97,
   "metadata": {},
   "outputs": [
    {
     "data": {
      "text/plain": [
       "1.0371235434691273"
      ]
     },
     "execution_count": 97,
     "metadata": {},
     "output_type": "execute_result"
    }
   ],
   "source": [
    "T1 = (21.98-19.46-1)/sqrt(5.58^2/15+1.14^2/18)"
   ]
  },
  {
   "cell_type": "code",
   "execution_count": 98,
   "metadata": {},
   "outputs": [
    {
     "data": {
      "text/plain": [
       "0.1580545715864028"
      ]
     },
     "execution_count": 98,
     "metadata": {},
     "output_type": "execute_result"
    }
   ],
   "source": [
    "T15 = TDist(15)\n",
    "1-cdf(T15,T1)"
   ]
  },
  {
   "cell_type": "markdown",
   "metadata": {},
   "source": [
    "### d \n",
    "\n",
    "$\\alpha = 0.05 \\,, n_1=15, \\, n_2 = 18 \\,, \\sigma_1^2=\\sigma_2^2 \\, , \\bar x_1=21.98 \\,, \\bar x_2=19.46\\,, s_1=5.58 \\,, s_2=1.14$\n",
    "\n",
    "$df = n_1+n_2-2=31 \\geq 30 \\rightarrow Z$\n",
    "\n",
    "$s_p^2 = [(n_1-1)s_1^2+(n_2-1)s_2^2]/[n_1+n_2-2] = 14*5.58^2+17*1.14^2/(31) = 436.6$ \n",
    "\n",
    "$Z_1 = \\frac{(\\bar x_1 - \\bar x_2)-K}{\\sqrt{s_p^2 (\\frac{1}{n_1}+\\frac{1}{n_2}})}$\n",
    "\n",
    "$p = 2[1-P(Z<|Z_1|)] = 2[1-P(Z<0.21)] = 0.84$\n",
    "\n",
    "Since $p > \\alpha (0.84 > 0.05)$, we cannot conclude $H_A$ that the mean vacation length of European is not different from the mean vacation length of American by one day."
   ]
  },
  {
   "cell_type": "code",
   "execution_count": 99,
   "metadata": {},
   "outputs": [
    {
     "data": {
      "text/plain": [
       "436.62228387096775"
      ]
     },
     "execution_count": 99,
     "metadata": {},
     "output_type": "execute_result"
    }
   ],
   "source": [
    "sp2 = 14*5.58^2+17*1.14^2/(31)"
   ]
  },
  {
   "cell_type": "code",
   "execution_count": 100,
   "metadata": {},
   "outputs": [
    {
     "data": {
      "text/plain": [
       "0.20807291505493555"
      ]
     },
     "execution_count": 100,
     "metadata": {},
     "output_type": "execute_result"
    }
   ],
   "source": [
    "Z_1 = (21.98-19.46-1)/sqrt(sp2*(1/15+1/18))"
   ]
  },
  {
   "cell_type": "code",
   "execution_count": 101,
   "metadata": {},
   "outputs": [
    {
     "data": {
      "text/plain": [
       "0.8351720349764538"
      ]
     },
     "execution_count": 101,
     "metadata": {},
     "output_type": "execute_result"
    }
   ],
   "source": [
    "2*(1-cdf(Z,Z_1))"
   ]
  },
  {
   "cell_type": "markdown",
   "metadata": {},
   "source": [
    "### 2 \n",
    "\n",
    "$H_O: p_1 = p_2 \\,, H_A: p_1 > p_2$, where $p_1$ is the propotion men exercising regularly and $p_2$ is the propotion of women.\n",
    "\n",
    "$n_1=228 \\,, n_2=450 \\,, y_1= 68 \\,, y_2 = 105 \\,, \\alpha = 0.05 \\,,\\hat p = (y_1+y_2)/(n_1+n_2)=0.255$"
   ]
  },
  {
   "cell_type": "markdown",
   "metadata": {},
   "source": [
    "#### a\n",
    "\n",
    "we can see that #successes and #failures in both samples are at least $15$ so normal\n",
    "approximation is valid\n",
    "\n",
    "$Z_1 = [(y_1/n_1)-(y_2/n_2)]/\\sqrt{\\hat p (1-\\hat p)(1/n_1+1/n_2)} = 1.83$\n",
    "\n",
    "$p = P(Z>Z_1) = 1-P(Z<1.83)=0.03$\n",
    "\n",
    "Since $p<\\alpha (0.03<0.05)$, we can conclude $H_A$ that more propotion of men exercise regularly than women. "
   ]
  },
  {
   "cell_type": "code",
   "execution_count": 102,
   "metadata": {},
   "outputs": [
    {
     "data": {
      "text/plain": [
       "0.2551622418879056"
      ]
     },
     "execution_count": 102,
     "metadata": {},
     "output_type": "execute_result"
    }
   ],
   "source": [
    "p_hat = (68+105)/(228+450)"
   ]
  },
  {
   "cell_type": "code",
   "execution_count": 103,
   "metadata": {},
   "outputs": [
    {
     "data": {
      "text/plain": [
       "1.831667565229774"
      ]
     },
     "execution_count": 103,
     "metadata": {},
     "output_type": "execute_result"
    }
   ],
   "source": [
    "(68/228-105/450)/sqrt(p_hat*(1-p_hat)*(1/228+1/450))"
   ]
  },
  {
   "cell_type": "code",
   "execution_count": 104,
   "metadata": {
    "scrolled": true
   },
   "outputs": [
    {
     "data": {
      "text/plain": [
       "0.03362496941962834"
      ]
     },
     "execution_count": 104,
     "metadata": {},
     "output_type": "execute_result"
    }
   ],
   "source": [
    "1 -cdf(Z,1.83)"
   ]
  },
  {
   "cell_type": "markdown",
   "metadata": {},
   "source": [
    "#### b\n",
    "\n",
    "$N = 228+450=678 \\,, M=228,\\, n=173$\n",
    "\n",
    "$p = \\sum_{i=68}^{173}f(i)$, where $X \\sim Hypergeometric(N=678, N1=228, n=173) = 0.0418$ and $f(x)$ is the pdf\n",
    "\n",
    "Since $p<\\alpha (0.0418<0.05)$, we can conclude $H_A$ that more propotion of men exercise regularly than women. "
   ]
  },
  {
   "cell_type": "code",
   "execution_count": 105,
   "metadata": {},
   "outputs": [
    {
     "data": {
      "text/plain": [
       "Hypergeometric(ns=228, nf=450, n=173)"
      ]
     },
     "execution_count": 105,
     "metadata": {},
     "output_type": "execute_result"
    }
   ],
   "source": [
    "H = Hypergeometric(228,450,173)"
   ]
  },
  {
   "cell_type": "code",
   "execution_count": 106,
   "metadata": {},
   "outputs": [
    {
     "data": {
      "text/plain": [
       "0.041838944360298"
      ]
     },
     "execution_count": 106,
     "metadata": {},
     "output_type": "execute_result"
    }
   ],
   "source": [
    "1-cdf(H,67)"
   ]
  },
  {
   "cell_type": "code",
   "execution_count": 107,
   "metadata": {},
   "outputs": [
    {
     "data": {
      "text/plain": [
       "678"
      ]
     },
     "execution_count": 107,
     "metadata": {},
     "output_type": "execute_result"
    }
   ],
   "source": [
    "228+450"
   ]
  },
  {
   "cell_type": "markdown",
   "metadata": {},
   "source": [
    "### c \n",
    "##### a\n",
    "\n",
    "$n_1 = 23 \\,, n_2=28 \\,, y_1=10 \\,, y_2= 8 \\,, \\alpha = 0.05 \\,, \\hat p = 0.35$\n",
    "\n",
    "$Z_1 = [(y_1/n_1)-(y_2/n_2)]/\\sqrt{\\hat p (1-\\hat p)(1/n_1+1/n_2)} = 1.108$\n",
    "\n",
    "$p = P(Z>Z1) = P(Z>1.11) = 1-P(Z<1.11)=0.134$\n",
    "\n",
    "Since $p>\\alpha (0.134>0.05)$, we cannot conclude our $H_A$ that more propotion of men exercise regularly than women. \n",
    "\n",
    "##### b\n",
    "\n",
    "$N = 51 \\,, M = 23 \\,, n = 18$\n",
    "\n",
    "The hypergeometric terms are $\\frac{{23 \\choose 10}{28 \\choose 8}}{51 \\choose 18}+\\frac{{23 \\choose 11}{28 \\choose 7}}{51 \\choose 18} + \\frac{{23 \\choose 12}{28 \\choose 6}}{51 \\choose 18}+\\frac{{23 \\choose 13}{28 \\choose 5}}{51 \\choose 18} + \\frac{{23 \\choose 14}{28 \\choose 4}}{51 \\choose 18}+\\frac{{23 \\choose 15}{28 \\choose 3}}{51 \\choose 18} + \\frac{{23 \\choose 16}{28 \\choose 2}}{51 \\choose 18}+\\frac{{23 \\choose 17}{28 \\choose 1}}{51 \\choose 18} + \\frac{{23 \\choose 18}{28 \\choose 0}}{51 \\choose 18} = 0.21 = p$\n",
    "\n",
    "Since $p>\\alpha (0.21>0.05)$, we cannot conclude our $H_A$ that more propotion of men exercise regularly than women. "
   ]
  },
  {
   "cell_type": "code",
   "execution_count": 108,
   "metadata": {},
   "outputs": [
    {
     "data": {
      "text/plain": [
       "0.35294117647058826"
      ]
     },
     "execution_count": 108,
     "metadata": {},
     "output_type": "execute_result"
    }
   ],
   "source": [
    "p_h = 18/(23+28)"
   ]
  },
  {
   "cell_type": "code",
   "execution_count": 56,
   "metadata": {},
   "outputs": [
    {
     "data": {
      "text/plain": [
       "1.1084603552311387"
      ]
     },
     "execution_count": 56,
     "metadata": {},
     "output_type": "execute_result"
    }
   ],
   "source": [
    "Z1 = ((10/23)-(8/28))/sqrt(p_h*(1-p_h)*(1/23+1/28))"
   ]
  },
  {
   "cell_type": "code",
   "execution_count": 57,
   "metadata": {},
   "outputs": [
    {
     "data": {
      "text/plain": [
       "0.13383152576814727"
      ]
     },
     "execution_count": 57,
     "metadata": {},
     "output_type": "execute_result"
    }
   ],
   "source": [
    "1-cdf(Z,Z1)"
   ]
  },
  {
   "cell_type": "code",
   "execution_count": 58,
   "metadata": {},
   "outputs": [
    {
     "data": {
      "text/plain": [
       "Hypergeometric(ns=23, nf=28, n=18)"
      ]
     },
     "execution_count": 58,
     "metadata": {},
     "output_type": "execute_result"
    }
   ],
   "source": [
    "H = Hypergeometric(23,28,18)"
   ]
  },
  {
   "cell_type": "code",
   "execution_count": 61,
   "metadata": {},
   "outputs": [
    {
     "data": {
      "text/plain": [
       "0.20777266705990716"
      ]
     },
     "execution_count": 61,
     "metadata": {},
     "output_type": "execute_result"
    }
   ],
   "source": [
    "1-cdf(H,9)"
   ]
  },
  {
   "cell_type": "markdown",
   "metadata": {},
   "source": [
    "### d\n",
    "\n",
    "For $a$, smaller denominator will make $Z_1$ bigger. Since the numerator and $\\hat p$ are fractions so we can expect for not a huge difference, but $(1/n_1+1/n_2)$ only take each sample size into accout, we can expect that the larger sample size will influence more on making $Z_1$ bigger.Also, since there are not enough #successes and #failures in c, normal approximation is not good. \n",
    "\n",
    "For $b$, I could expect similar results from the result of $a$, but it also has the larger sample size (larger denominator) affecting to get smaller $p$ value. Also, since each hypergeometric term is smaller in the original b, that might have affected to get smaller $p$ value."
   ]
  },
  {
   "cell_type": "markdown",
   "metadata": {},
   "source": [
    "### 3\n",
    "\n",
    "#### a \n",
    "\n",
    "power $=P(X \\geq 10 | X \\sim Bin(12,p) where p > 0.5) = P(X=10,11,or12| ...)\\\\\n",
    "= P(10)+P(11)+P(12) where X \\sim Bin(12,p), p>0.5 \\\\\n",
    "= {12 \\choose 10}p^{10}(1-p)^2+{12 \\choose 11}p^{11}(1-p)^1+{12 \\choose 12}p^{12}(1-p)^0\\\\\n",
    "= 66p^{10}(1-p)^2 + 12p^{11}(1-p) +p^{12} \\\\\n",
    "= p^{10}(66-132p+66p^2+12p-12p^2+p^2)\\\\\n",
    "= p^{10}(55p^2-120p+66)$\n",
    "\n",
    "#### b"
   ]
  },
  {
   "cell_type": "code",
   "execution_count": 79,
   "metadata": {},
   "outputs": [
    {
     "data": {
      "image/svg+xml": [
       "<?xml version=\"1.0\" encoding=\"utf-8\"?>\n",
       "<svg xmlns=\"http://www.w3.org/2000/svg\" xmlns:xlink=\"http://www.w3.org/1999/xlink\" width=\"600\" height=\"400\" viewBox=\"0 0 2400 1600\">\n",
       "<defs>\n",
       "  <clipPath id=\"clip5100\">\n",
       "    <rect x=\"0\" y=\"0\" width=\"2400\" height=\"1600\"/>\n",
       "  </clipPath>\n",
       "</defs>\n",
       "<path clip-path=\"url(#clip5100)\" d=\"\n",
       "M0 1600 L2400 1600 L2400 0 L0 0  Z\n",
       "  \" fill=\"#ffffff\" fill-rule=\"evenodd\" fill-opacity=\"1\"/>\n",
       "<defs>\n",
       "  <clipPath id=\"clip5101\">\n",
       "    <rect x=\"480\" y=\"0\" width=\"1681\" height=\"1600\"/>\n",
       "  </clipPath>\n",
       "</defs>\n",
       "<path clip-path=\"url(#clip5100)\" d=\"\n",
       "M180.66 1487.47 L2352.76 1487.47 L2352.76 47.2441 L180.66 47.2441  Z\n",
       "  \" fill=\"#ffffff\" fill-rule=\"evenodd\" fill-opacity=\"1\"/>\n",
       "<defs>\n",
       "  <clipPath id=\"clip5102\">\n",
       "    <rect x=\"180\" y=\"47\" width=\"2173\" height=\"1441\"/>\n",
       "  </clipPath>\n",
       "</defs>\n",
       "<polyline clip-path=\"url(#clip5102)\" style=\"stroke:#000000; stroke-width:2; stroke-opacity:0.1; fill:none\" points=\"\n",
       "  242.135,1487.47 242.135,47.2441 \n",
       "  \"/>\n",
       "<polyline clip-path=\"url(#clip5102)\" style=\"stroke:#000000; stroke-width:2; stroke-opacity:0.1; fill:none\" points=\"\n",
       "  651.964,1487.47 651.964,47.2441 \n",
       "  \"/>\n",
       "<polyline clip-path=\"url(#clip5102)\" style=\"stroke:#000000; stroke-width:2; stroke-opacity:0.1; fill:none\" points=\"\n",
       "  1061.79,1487.47 1061.79,47.2441 \n",
       "  \"/>\n",
       "<polyline clip-path=\"url(#clip5102)\" style=\"stroke:#000000; stroke-width:2; stroke-opacity:0.1; fill:none\" points=\"\n",
       "  1471.62,1487.47 1471.62,47.2441 \n",
       "  \"/>\n",
       "<polyline clip-path=\"url(#clip5102)\" style=\"stroke:#000000; stroke-width:2; stroke-opacity:0.1; fill:none\" points=\"\n",
       "  1881.45,1487.47 1881.45,47.2441 \n",
       "  \"/>\n",
       "<polyline clip-path=\"url(#clip5102)\" style=\"stroke:#000000; stroke-width:2; stroke-opacity:0.1; fill:none\" points=\"\n",
       "  2291.28,1487.47 2291.28,47.2441 \n",
       "  \"/>\n",
       "<polyline clip-path=\"url(#clip5102)\" style=\"stroke:#000000; stroke-width:2; stroke-opacity:0.1; fill:none\" points=\"\n",
       "  180.66,1473.43 2352.76,1473.43 \n",
       "  \"/>\n",
       "<polyline clip-path=\"url(#clip5102)\" style=\"stroke:#000000; stroke-width:2; stroke-opacity:0.1; fill:none\" points=\"\n",
       "  180.66,1127.08 2352.76,1127.08 \n",
       "  \"/>\n",
       "<polyline clip-path=\"url(#clip5102)\" style=\"stroke:#000000; stroke-width:2; stroke-opacity:0.1; fill:none\" points=\"\n",
       "  180.66,780.72 2352.76,780.72 \n",
       "  \"/>\n",
       "<polyline clip-path=\"url(#clip5102)\" style=\"stroke:#000000; stroke-width:2; stroke-opacity:0.1; fill:none\" points=\"\n",
       "  180.66,434.363 2352.76,434.363 \n",
       "  \"/>\n",
       "<polyline clip-path=\"url(#clip5102)\" style=\"stroke:#000000; stroke-width:2; stroke-opacity:0.1; fill:none\" points=\"\n",
       "  180.66,88.0053 2352.76,88.0053 \n",
       "  \"/>\n",
       "<polyline clip-path=\"url(#clip5100)\" style=\"stroke:#000000; stroke-width:4; stroke-opacity:1; fill:none\" points=\"\n",
       "  180.66,1487.47 2352.76,1487.47 \n",
       "  \"/>\n",
       "<polyline clip-path=\"url(#clip5100)\" style=\"stroke:#000000; stroke-width:4; stroke-opacity:1; fill:none\" points=\"\n",
       "  180.66,1487.47 180.66,47.2441 \n",
       "  \"/>\n",
       "<polyline clip-path=\"url(#clip5100)\" style=\"stroke:#000000; stroke-width:4; stroke-opacity:1; fill:none\" points=\"\n",
       "  242.135,1487.47 242.135,1470.19 \n",
       "  \"/>\n",
       "<polyline clip-path=\"url(#clip5100)\" style=\"stroke:#000000; stroke-width:4; stroke-opacity:1; fill:none\" points=\"\n",
       "  651.964,1487.47 651.964,1470.19 \n",
       "  \"/>\n",
       "<polyline clip-path=\"url(#clip5100)\" style=\"stroke:#000000; stroke-width:4; stroke-opacity:1; fill:none\" points=\"\n",
       "  1061.79,1487.47 1061.79,1470.19 \n",
       "  \"/>\n",
       "<polyline clip-path=\"url(#clip5100)\" style=\"stroke:#000000; stroke-width:4; stroke-opacity:1; fill:none\" points=\"\n",
       "  1471.62,1487.47 1471.62,1470.19 \n",
       "  \"/>\n",
       "<polyline clip-path=\"url(#clip5100)\" style=\"stroke:#000000; stroke-width:4; stroke-opacity:1; fill:none\" points=\"\n",
       "  1881.45,1487.47 1881.45,1470.19 \n",
       "  \"/>\n",
       "<polyline clip-path=\"url(#clip5100)\" style=\"stroke:#000000; stroke-width:4; stroke-opacity:1; fill:none\" points=\"\n",
       "  2291.28,1487.47 2291.28,1470.19 \n",
       "  \"/>\n",
       "<polyline clip-path=\"url(#clip5100)\" style=\"stroke:#000000; stroke-width:4; stroke-opacity:1; fill:none\" points=\"\n",
       "  180.66,1473.43 206.725,1473.43 \n",
       "  \"/>\n",
       "<polyline clip-path=\"url(#clip5100)\" style=\"stroke:#000000; stroke-width:4; stroke-opacity:1; fill:none\" points=\"\n",
       "  180.66,1127.08 206.725,1127.08 \n",
       "  \"/>\n",
       "<polyline clip-path=\"url(#clip5100)\" style=\"stroke:#000000; stroke-width:4; stroke-opacity:1; fill:none\" points=\"\n",
       "  180.66,780.72 206.725,780.72 \n",
       "  \"/>\n",
       "<polyline clip-path=\"url(#clip5100)\" style=\"stroke:#000000; stroke-width:4; stroke-opacity:1; fill:none\" points=\"\n",
       "  180.66,434.363 206.725,434.363 \n",
       "  \"/>\n",
       "<polyline clip-path=\"url(#clip5100)\" style=\"stroke:#000000; stroke-width:4; stroke-opacity:1; fill:none\" points=\"\n",
       "  180.66,88.0053 206.725,88.0053 \n",
       "  \"/>\n",
       "<g clip-path=\"url(#clip5100)\">\n",
       "<text style=\"fill:#000000; fill-opacity:1; font-family:Arial,Helvetica Neue,Helvetica,sans-serif; font-size:48px; text-anchor:middle;\" transform=\"rotate(0, 242.135, 1541.47)\" x=\"242.135\" y=\"1541.47\">0.5</text>\n",
       "</g>\n",
       "<g clip-path=\"url(#clip5100)\">\n",
       "<text style=\"fill:#000000; fill-opacity:1; font-family:Arial,Helvetica Neue,Helvetica,sans-serif; font-size:48px; text-anchor:middle;\" transform=\"rotate(0, 651.964, 1541.47)\" x=\"651.964\" y=\"1541.47\">0.6</text>\n",
       "</g>\n",
       "<g clip-path=\"url(#clip5100)\">\n",
       "<text style=\"fill:#000000; fill-opacity:1; font-family:Arial,Helvetica Neue,Helvetica,sans-serif; font-size:48px; text-anchor:middle;\" transform=\"rotate(0, 1061.79, 1541.47)\" x=\"1061.79\" y=\"1541.47\">0.7</text>\n",
       "</g>\n",
       "<g clip-path=\"url(#clip5100)\">\n",
       "<text style=\"fill:#000000; fill-opacity:1; font-family:Arial,Helvetica Neue,Helvetica,sans-serif; font-size:48px; text-anchor:middle;\" transform=\"rotate(0, 1471.62, 1541.47)\" x=\"1471.62\" y=\"1541.47\">0.8</text>\n",
       "</g>\n",
       "<g clip-path=\"url(#clip5100)\">\n",
       "<text style=\"fill:#000000; fill-opacity:1; font-family:Arial,Helvetica Neue,Helvetica,sans-serif; font-size:48px; text-anchor:middle;\" transform=\"rotate(0, 1881.45, 1541.47)\" x=\"1881.45\" y=\"1541.47\">0.9</text>\n",
       "</g>\n",
       "<g clip-path=\"url(#clip5100)\">\n",
       "<text style=\"fill:#000000; fill-opacity:1; font-family:Arial,Helvetica Neue,Helvetica,sans-serif; font-size:48px; text-anchor:middle;\" transform=\"rotate(0, 2291.28, 1541.47)\" x=\"2291.28\" y=\"1541.47\">1.0</text>\n",
       "</g>\n",
       "<g clip-path=\"url(#clip5100)\">\n",
       "<text style=\"fill:#000000; fill-opacity:1; font-family:Arial,Helvetica Neue,Helvetica,sans-serif; font-size:48px; text-anchor:end;\" transform=\"rotate(0, 156.66, 1490.93)\" x=\"156.66\" y=\"1490.93\">0.00</text>\n",
       "</g>\n",
       "<g clip-path=\"url(#clip5100)\">\n",
       "<text style=\"fill:#000000; fill-opacity:1; font-family:Arial,Helvetica Neue,Helvetica,sans-serif; font-size:48px; text-anchor:end;\" transform=\"rotate(0, 156.66, 1144.58)\" x=\"156.66\" y=\"1144.58\">0.25</text>\n",
       "</g>\n",
       "<g clip-path=\"url(#clip5100)\">\n",
       "<text style=\"fill:#000000; fill-opacity:1; font-family:Arial,Helvetica Neue,Helvetica,sans-serif; font-size:48px; text-anchor:end;\" transform=\"rotate(0, 156.66, 798.22)\" x=\"156.66\" y=\"798.22\">0.50</text>\n",
       "</g>\n",
       "<g clip-path=\"url(#clip5100)\">\n",
       "<text style=\"fill:#000000; fill-opacity:1; font-family:Arial,Helvetica Neue,Helvetica,sans-serif; font-size:48px; text-anchor:end;\" transform=\"rotate(0, 156.66, 451.863)\" x=\"156.66\" y=\"451.863\">0.75</text>\n",
       "</g>\n",
       "<g clip-path=\"url(#clip5100)\">\n",
       "<text style=\"fill:#000000; fill-opacity:1; font-family:Arial,Helvetica Neue,Helvetica,sans-serif; font-size:48px; text-anchor:end;\" transform=\"rotate(0, 156.66, 105.505)\" x=\"156.66\" y=\"105.505\">1.00</text>\n",
       "</g>\n",
       "<polyline clip-path=\"url(#clip5102)\" style=\"stroke:#009af9; stroke-width:4; stroke-opacity:1; fill:none\" points=\"\n",
       "  242.135,1446.71 283.118,1441.92 324.101,1436.44 365.084,1430.19 406.066,1423.08 447.049,1415.05 488.032,1406 529.015,1395.84 569.998,1384.49 610.981,1371.85 \n",
       "  651.964,1357.83 692.947,1342.33 733.93,1325.27 774.913,1306.56 815.896,1286.1 856.879,1263.84 897.862,1239.68 938.845,1213.58 979.828,1185.49 1020.81,1155.36 \n",
       "  1061.79,1123.18 1102.78,1088.94 1143.76,1052.67 1184.74,1014.41 1225.73,974.212 1266.71,932.182 1307.69,888.438 1348.67,843.133 1389.66,796.454 1430.64,748.62 \n",
       "  1471.62,699.886 1512.61,650.541 1553.59,600.909 1594.57,551.347 1635.55,502.243 1676.54,454.011 1717.52,407.088 1758.5,361.928 1799.49,318.991 1840.47,278.737 \n",
       "  1881.45,241.608 1922.44,208.017 1963.42,178.33 2004.4,152.839 2045.38,131.743 2086.37,115.116 2127.35,102.87 2168.33,94.7193 2209.32,90.1348 2250.3,88.2902 \n",
       "  2291.28,88.0053 \n",
       "  \"/>\n",
       "<path clip-path=\"url(#clip5100)\" d=\"\n",
       "M1989.93 251.724 L2280.76 251.724 L2280.76 130.764 L1989.93 130.764  Z\n",
       "  \" fill=\"#ffffff\" fill-rule=\"evenodd\" fill-opacity=\"1\"/>\n",
       "<polyline clip-path=\"url(#clip5100)\" style=\"stroke:#000000; stroke-width:4; stroke-opacity:1; fill:none\" points=\"\n",
       "  1989.93,251.724 2280.76,251.724 2280.76,130.764 1989.93,130.764 1989.93,251.724 \n",
       "  \"/>\n",
       "<polyline clip-path=\"url(#clip5100)\" style=\"stroke:#009af9; stroke-width:4; stroke-opacity:1; fill:none\" points=\"\n",
       "  2013.93,191.244 2157.93,191.244 \n",
       "  \"/>\n",
       "<g clip-path=\"url(#clip5100)\">\n",
       "<text style=\"fill:#000000; fill-opacity:1; font-family:Arial,Helvetica Neue,Helvetica,sans-serif; font-size:48px; text-anchor:start;\" transform=\"rotate(0, 2181.93, 208.744)\" x=\"2181.93\" y=\"208.744\">y1</text>\n",
       "</g>\n",
       "</svg>\n"
      ]
     },
     "execution_count": 79,
     "metadata": {},
     "output_type": "execute_result"
    }
   ],
   "source": [
    "f(p) = p^10*(55*p^2-120*p+66)\n",
    "pvec = 0.5:0.01:1.0\n",
    "plot(pvec, f.(pvec))"
   ]
  },
  {
   "cell_type": "markdown",
   "metadata": {},
   "source": [
    "#### c\n",
    "\n",
    "It would be $f(0.7)=0.25$"
   ]
  },
  {
   "cell_type": "code",
   "execution_count": 80,
   "metadata": {},
   "outputs": [
    {
     "data": {
      "text/plain": [
       "0.2528153478549997"
      ]
     },
     "execution_count": 80,
     "metadata": {},
     "output_type": "execute_result"
    }
   ],
   "source": [
    "f(0.7)"
   ]
  },
  {
   "cell_type": "markdown",
   "metadata": {},
   "source": [
    "#### d \n",
    "It would be $f^{-1}(0.99) = 0.962$"
   ]
  },
  {
   "cell_type": "code",
   "execution_count": 112,
   "metadata": {},
   "outputs": [],
   "source": [
    "using Roots"
   ]
  },
  {
   "cell_type": "code",
   "execution_count": 121,
   "metadata": {},
   "outputs": [
    {
     "data": {
      "text/plain": [
       "0.961017859506755"
      ]
     },
     "execution_count": 121,
     "metadata": {},
     "output_type": "execute_result"
    }
   ],
   "source": [
    "g(p) =  p^10*(55*p^2-120*p+66) -0.99\n",
    "find_zero(g,1)\n",
    "\n",
    "##This finds the roots of equation f(p)=0.99 around p=1"
   ]
  },
  {
   "cell_type": "code",
   "execution_count": 123,
   "metadata": {},
   "outputs": [
    {
     "data": {
      "text/plain": [
       "0.99"
      ]
     },
     "execution_count": 123,
     "metadata": {},
     "output_type": "execute_result"
    }
   ],
   "source": [
    "f(0.961017859506755)\n",
    "## I verified that"
   ]
  },
  {
   "cell_type": "markdown",
   "metadata": {},
   "source": [
    "### 4\n",
    "\n",
    "$H_O: p=0.3, H_A: p>0.3, \\alpha=0.025$\n",
    "Since $\\alpha=0.025,$ the corresponding Z-score is 1.96\n",
    "#### a\n",
    "$K=0.3, (y/n)=0.35$\n",
    "\n",
    "$Z_1$ $= \\frac{(y/n)-K}{\\sqrt{K(1-K)/n}}=\\frac{0.05}{\\sqrt{(0.3)(0.7)/n}} \\geq 1.96\\\\\n",
    "\\Leftrightarrow (0.05/1.96)^2 \\geq 0.3*0.7/n\\\\\n",
    "\\Leftrightarrow (0.3*0.7)/(0.05/1.96)^2 \\leq n \\\\\n",
    "\\Leftrightarrow 332.6944 \\leq n$\n",
    "\n",
    "Therefore, we need at least $333$ observations in order to accept $H_A$ if $K=0.3$ and $(y/n)=0.35$\n",
    "\n",
    "#### b\n",
    "$K=0.3, (y/n)=0.32$\n",
    "\n",
    "$Z_1$ $= \\frac{(y/n)-K}{\\sqrt{K(1-K)/n}}=\\frac{0.02}{\\sqrt{(0.3)(0.7)/n}} \\geq 1.96\\\\\n",
    "\\Leftrightarrow (0.02/1.96)^2 \\geq 0.3*0.7/n\\\\\n",
    "\\Leftrightarrow (0.3*0.7)/(0.02/1.96)^2 \\leq n \\\\\n",
    "\\Leftrightarrow  2016.84 \\leq n$\n",
    "\n",
    "Therefore, we need at least $2017$ observations in order to accept $H_A$ if $K=0.3$ and $(y/n)=0.32$"
   ]
  },
  {
   "cell_type": "code",
   "execution_count": 129,
   "metadata": {},
   "outputs": [
    {
     "data": {
      "text/plain": [
       "(1.9599639845400592, 0.024997895148220484)"
      ]
     },
     "execution_count": 129,
     "metadata": {},
     "output_type": "execute_result"
    }
   ],
   "source": [
    "quantile(Z,0.025)*-1, 1-cdf(Z,1.96)"
   ]
  },
  {
   "cell_type": "code",
   "execution_count": 131,
   "metadata": {},
   "outputs": [
    {
     "data": {
      "text/plain": [
       "322.6944"
      ]
     },
     "execution_count": 131,
     "metadata": {},
     "output_type": "execute_result"
    }
   ],
   "source": [
    "(0.3*0.7)/(0.05/1.96)^2"
   ]
  },
  {
   "cell_type": "code",
   "execution_count": 132,
   "metadata": {},
   "outputs": [
    {
     "data": {
      "text/plain": [
       "2016.8399999999997"
      ]
     },
     "execution_count": 132,
     "metadata": {},
     "output_type": "execute_result"
    }
   ],
   "source": [
    "(0.3*0.7)/(0.02/1.96)^2"
   ]
  },
  {
   "cell_type": "code",
   "execution_count": null,
   "metadata": {},
   "outputs": [],
   "source": []
  }
 ],
 "metadata": {
  "kernelspec": {
   "display_name": "Julia 1.3.1",
   "language": "julia",
   "name": "julia-1.3"
  },
  "language_info": {
   "file_extension": ".jl",
   "mimetype": "application/julia",
   "name": "julia",
   "version": "1.3.1"
  }
 },
 "nbformat": 4,
 "nbformat_minor": 4
}
